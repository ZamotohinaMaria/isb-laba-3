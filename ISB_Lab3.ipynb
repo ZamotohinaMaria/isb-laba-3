{
  "cells": [
    {
      "attachments": {},
      "cell_type": "markdown",
      "metadata": {
        "id": "gIscjbgOTxbO"
      },
      "source": [
        "# **Лабораторная работа № 3 \"Построение гибридной криптосистемы\"**\n",
        "**В рамках курса \"Основы информационной безопасности\"**  \n",
        "*Специальность \"Информационная безопасность автоматизированных систем\", 2 курс, 2 семестр*  \n",
        "\n",
        "Результат данной лабораторной работы - [гибридная криптосистема](https://www.youtube.com/watch?v=VPvZbMXfv_0) - будет сочетать в себе преимущества [симметричных](http://mf.grsu.by/UchProc/livak/b_protect/zok_2.htm) и [асимметричных](https://bstudy.net/905249/tehnika/asimmetrichnye_shifry) алгоритмов шифрования и в целом даже напоминать системы, использующиеся на практике. Симметричные алгоритмы работают быстрее ассиметричных и ими удобно шифровать большие объемы информации. Зато асимметричные алгоритмы не требуют наличия секретного канала для передачи ключа.   \n",
        "Работать она будет следующим образом: сообщение шифруется при помощи симметричного алгоритма, а ключ симметричного алгоритма - ассиметричным. В качестве асимметричного алгоритма будет использоваться [RSA](http://www.michurin.net/computer-science/rsa.html), симметричный алгорим выбирается в соответствии с вариантом. Варианты приведены ниже (все шифры блочные).\n",
        "\n"
      ]
    },
    {
      "attachments": {},
      "cell_type": "markdown",
      "metadata": {
        "id": "l05PT0JEbUTo"
      },
      "source": [
        "## Задание  \n",
        "Реализовать приложение (можно консольное), которое будет выполнять три указанных ниже сценарии: "
      ]
    },
    {
      "attachments": {},
      "cell_type": "markdown",
      "metadata": {
        "id": "dhZSdDCHdSeU"
      },
      "source": [
        "### 1. Генерация ключей гибридной системы\n",
        "*Входные параметры:*  \n",
        "*1) путь, по которому сериализовать зашифрованный симметричный ключ;*  \n",
        "*2) путь, по которому сериализовать открытый ключ;*  \n",
        "*3) путь, по которому сериазизовать закрытый ключ.*\n",
        "\n",
        "1.1. Сгеренировать ключ для симметричного алгоритма.  \n",
        "1.2. Сгенерировать ключи для ассиметричного алгоритма.  \n",
        "1.3. Сериализовать ассиметричные ключи.   \n",
        "1.4. Зашифровать ключ симметричного шифрования открытым ключом и сохранить по указанному пути. "
      ]
    },
    {
      "attachments": {},
      "cell_type": "markdown",
      "metadata": {
        "id": "AffgS2s2dSqD"
      },
      "source": [
        "### 2. Шифрование данных гибридной системой\n",
        "*Входные параметры:*  \n",
        "*1) путь к шифруемому текстовому файлу (очевидно, что файл должен быть достаточно объемным);*  \n",
        "*2) путь к закрытому ключу ассиметричного алгоритма;*  \n",
        "*3) путь к зашированному ключу симметричного алгоритма;*  \n",
        "*4) путь, по которому сохранить зашифрованный текстовый файл;*  \n",
        "\n",
        "2.1. Расшифровать симметричный ключ.  \n",
        "2.2. Зашифровать текст симметричным алгоритмом и сохранить по указанному пути.   "
      ]
    },
    {
      "attachments": {},
      "cell_type": "markdown",
      "metadata": {
        "id": "ndA_6fSEdS1R"
      },
      "source": [
        "### 3. Дешифрование данных гибридной системой\n",
        "*Входные парметры:*  \n",
        "*1) путь к зашифрованному текстовому файлу;*  \n",
        "*2) путь к закрытому ключу ассиметричного алгоритма;*  \n",
        "*3) путь к зашированному ключу симметричного алгоритма;*  \n",
        "*4) путь, по которому сохранить расшифрованный текстовый файл.*  \n",
        "\n",
        "3.1. Расшифровать симметричный ключ.  \n",
        "3.2. Расшифровать текст симметричным алгоритмом и сохранить по указанному пути. "
      ]
    },
    {
      "attachments": {},
      "cell_type": "markdown",
      "metadata": {
        "id": "GV0-KXpFjO8j"
      },
      "source": [
        "## Небольшие ремарки к реализации приложения\n",
        "Я очень расчитываю не увидеть в вашем программном обеспечении захардкоженных входных параметров. Вы можете как считать их с клавиатуры, так и из файла. Ниже приведен пример работы с json.  \n",
        "\n",
        "Также я расчитываю, что ваше приложение будет сигнализировать о выполнении различных этапов своей работы.\n",
        "\n",
        "А еще, что оно не будет представлять из себя сплошную простыню кода без единой процедуры.\n",
        "\n",
        "Также было бы очень приятно увидеть лабораторную работу в виде грамотно оформленного репозитория на [github](https://github.com/)/[bitbucket](https://bitbucket.org/)/так далее."
      ]
    },
    {
      "attachments": {},
      "cell_type": "markdown",
      "metadata": {},
      "source": [
        "## Пример кода"
      ]
    },
    {
      "cell_type": "code",
      "execution_count": null,
      "metadata": {
        "id": "LjgkhpKQlYAA"
      },
      "outputs": [],
      "source": [
        "settings= {\n",
        "    'initial_file':'path/to/inital/file.txt',\n",
        "    'encrypted_file':'path/to/encrypted/file.txt',\n",
        "    'decrypted_file':'path/to/decrypted/file.txt',\n",
        "    'symmetric_key':'path/to/symmetric/key.txt',\n",
        "    'public_key':'path/to/public/key.pem',\n",
        "    'secret_key':'path/to/secret/key.pem',\n",
        "}\n"
      ]
    },
    {
      "cell_type": "code",
      "execution_count": null,
      "metadata": {
        "id": "K_hNM6LxmzUO"
      },
      "outputs": [],
      "source": [
        "import json\n",
        "# пишем в файл\n",
        "with open('settings.json', 'w') as fp:\n",
        "    json.dump(settings, fp)\n",
        "# читаем из файла\n",
        "with open('settings.json') as json_file:\n",
        "    json_data = json.load(json_file)\n",
        "\n",
        "print(json_data)"
      ]
    },
    {
      "cell_type": "markdown",
      "metadata": {
        "id": "qno_6_jAImlA"
      },
      "source": [
        "Чтобы у пользователя была возможность выбора одного из описанных выше режимов работы, можно воспользоваться argparse и организовать группу взаимоисключающих параметров командной строки."
      ]
    },
    {
      "cell_type": "code",
      "execution_count": 2,
      "metadata": {
        "id": "vzJwbEEwIm3v"
      },
      "outputs": [
        {
          "name": "stderr",
          "output_type": "stream",
          "text": [
            "usage: ipykernel_launcher.py [-h]\n",
            "                             (-gen GENERATION | -enc ENCRYPTION | -dec DECRYPTION)\n",
            "ipykernel_launcher.py: error: one of the arguments -gen/--generation -enc/--encryption -dec/--decryption is required\n"
          ]
        },
        {
          "ename": "SystemExit",
          "evalue": "2",
          "output_type": "error",
          "traceback": [
            "An exception has occurred, use %tb to see the full traceback.\n",
            "\u001b[1;31mSystemExit\u001b[0m\u001b[1;31m:\u001b[0m 2\n"
          ]
        },
        {
          "name": "stderr",
          "output_type": "stream",
          "text": [
            "c:\\Users\\Marishka\\anaconda3\\lib\\site-packages\\IPython\\core\\interactiveshell.py:3465: UserWarning: To exit: use 'exit', 'quit', or Ctrl-D.\n",
            "  warn(\"To exit: use 'exit', 'quit', or Ctrl-D.\", stacklevel=1)\n"
          ]
        }
      ],
      "source": [
        "import argparse\n",
        "parser = argparse.ArgumentParser()\n",
        "group = parser.add_mutually_exclusive_group(required = True)\n",
        "group.add_argument('-gen','--generation',help='Запускает режим генерации ключей')\n",
        "group.add_argument('-enc','--encryption',help='Запускает режим шифрования')\n",
        "group.add_argument('-dec','--decryption',help='Запускает режим дешифрования')\n",
        "\n",
        "args = parser.parse_args()\n",
        "if args.generation is not None:\n",
        "  # генерируем ключи\n",
        "  print()\n",
        "elif args.encryption is not None: \n",
        "    # шифруем\n",
        "    print()\n",
        "else:\n",
        "  print()\n",
        "  # дешифруем"
      ]
    },
    {
      "attachments": {},
      "cell_type": "markdown",
      "metadata": {
        "id": "t1ocn4B4jAv6"
      },
      "source": [
        "### Работа с библиотекой cryptography\n",
        "В данном разделе представлены примеры работы с библиотекой [cryptography](https://cryptography.io/en/latest/), которые могут вам пригодиться при выполнении данной лабораторной работы. Сама библиотека прекрасно задокументирована, так что, если вы владете английским языком, советую не проходить мимо. Если вы ко второму (третьему) курсу не владеете английским языком в мере, позволяющей вам читать технические тексты, то соболезную."
      ]
    },
    {
      "cell_type": "code",
      "execution_count": null,
      "metadata": {
        "id": "2lIxNidGt3bZ"
      },
      "outputs": [],
      "source": [
        "pip install cryptography"
      ]
    },
    {
      "cell_type": "code",
      "execution_count": 1,
      "metadata": {
        "id": "z_-ZWRjaTwJO"
      },
      "outputs": [
        {
          "name": "stdout",
          "output_type": "stream",
          "text": [
            "<class 'bytes'>\n",
            "b'n\\r.\\xf7\\x0f\\xb6\\x7f\\xe3g\\xdd\\xaa\\x8b[\\xb8\\xff`\\xa0\\xf10\\x85-\\x04&L\\x8ck$\\xfa8S\\xc4x'\n"
          ]
        }
      ],
      "source": [
        "# генерация ключа симметричного алгоритма шифрования\n",
        "import os #можно обойтись стандартным модулем\n",
        "\n",
        "key = os.urandom(32) # это байты\n",
        "\n",
        "print(type(key))\n",
        "print(key)"
      ]
    },
    {
      "cell_type": "code",
      "execution_count": 2,
      "metadata": {
        "id": "xacpzN4uqZ-i"
      },
      "outputs": [],
      "source": [
        "# сериализация ключа симмеричного алгоритма в файл\n",
        "file_name = 'symmetric.txt'\n",
        "with open(file_name, 'wb') as key_file:\n",
        "  key_file.write(key)"
      ]
    },
    {
      "cell_type": "code",
      "execution_count": 3,
      "metadata": {
        "id": "LL0jLslE1PJ2"
      },
      "outputs": [
        {
          "name": "stdout",
          "output_type": "stream",
          "text": [
            "<class 'bytes'>\n",
            "b'n\\r.\\xf7\\x0f\\xb6\\x7f\\xe3g\\xdd\\xaa\\x8b[\\xb8\\xff`\\xa0\\xf10\\x85-\\x04&L\\x8ck$\\xfa8S\\xc4x'\n"
          ]
        }
      ],
      "source": [
        "# десериализация ключа симметричного алгоритма\n",
        "with open(file_name, mode='rb') as key_file: \n",
        "    content = key_file.read()\n",
        "\n",
        "print(type(content))\n",
        "print(content)"
      ]
    },
    {
      "cell_type": "code",
      "execution_count": 4,
      "metadata": {
        "id": "8sMgJ3fH3yYX"
      },
      "outputs": [
        {
          "name": "stdout",
          "output_type": "stream",
          "text": [
            "b'\\xd0\\xba\\xd1\\x82\\xd0\\xbe \\xd0\\xbf\\xd1\\x80\\xd0\\xbe\\xd1\\x87\\xd0\\xb8\\xd1\\x82\\xd0\\xb0\\xd0\\xbb \\xd1\\x82\\xd0\\xbe\\xd1\\x82 \\xd0\\xb7\\xd0\\xb4\\xd0\\xbe\\xd1\\x85\\xd0\\xbd\\xd0\\xb5\\xd1\\x82'\n",
            "b'\\xd0\\xba\\xd1\\x82\\xd0\\xbe \\xd0\\xbf\\xd1\\x80\\xd0\\xbe\\xd1\\x87\\xd0\\xb8\\xd1\\x82\\xd0\\xb0\\xd0\\xbb \\xd1\\x82\\xd0\\xbe\\xd1\\x82 \\xd0\\xb7\\xd0\\xb4\\xd0\\xbe\\xd1\\x85\\xd0\\xbd\\xd0\\xb5\\xd1\\x82\\x00\\x00\\x03'\n"
          ]
        }
      ],
      "source": [
        "# паддинг данных для работы блочного шифра - делаем длину сообщения кратной длине шифркуемого блока\n",
        "from cryptography.hazmat.primitives import padding\n",
        "\n",
        "padder = padding.ANSIX923(32).padder()\n",
        "text = bytes('кто прочитал тот здохнет', 'UTF-8')\n",
        "padded_text = padder.update(text)+padder.finalize()\n",
        "\n",
        "print(text)\n",
        "print(padded_text)"
      ]
    },
    {
      "cell_type": "code",
      "execution_count": 5,
      "metadata": {
        "id": "r5qAuZmnqoWh"
      },
      "outputs": [
        {
          "name": "stdout",
          "output_type": "stream",
          "text": [
            "b\"\\x91\\x05\\x03O\\x90\\xb2\\xae\\xea'\\xbc\\x8cw\\x9f\\xfaOn6C;\\xe7\\xae\\x19j\\xa6\\xd2N\\xc18Db\\xc6\\xf9\\x86BK\\xd3\\xa0\\xdc\\xb1\\xfe\\xa0\\xfe\\xf4\\xeb\\x8eR\\xba\\xc2\"\n"
          ]
        }
      ],
      "source": [
        "# шифрование текста симметричным алгоритмом\n",
        "from cryptography.hazmat.primitives.ciphers import Cipher, algorithms, modes\n",
        "\n",
        "iv = os.urandom(16) #случайное значение для инициализации блочного режима, должно быть размером с блок и каждый раз новым\n",
        "cipher = Cipher(algorithms.AES(key), modes.CBC(iv))\n",
        "encryptor = cipher.encryptor()\n",
        "c_text = encryptor.update(padded_text) + encryptor.finalize()\n",
        "\n",
        "print(c_text)"
      ]
    },
    {
      "cell_type": "code",
      "execution_count": 6,
      "metadata": {
        "id": "tZtJlqccqtg4"
      },
      "outputs": [
        {
          "name": "stdout",
          "output_type": "stream",
          "text": [
            "кто прочитал тот здохнет\u0000\u0000\u0003\n",
            "кто прочитал тот здохнет\n"
          ]
        }
      ],
      "source": [
        "# дешифрование и депаддинг текста симметричным алгоритмом\n",
        "\n",
        "decryptor = cipher.decryptor()\n",
        "dc_text = decryptor.update(c_text) + decryptor.finalize()\n",
        "\n",
        "unpadder = padding.ANSIX923(32).unpadder()\n",
        "unpadded_dc_text = unpadder.update(dc_text) + unpadder.finalize()\n",
        "\n",
        "print(dc_text.decode('UTF-8'))\n",
        "print(unpadded_dc_text.decode('UTF-8'))"
      ]
    },
    {
      "cell_type": "code",
      "execution_count": 7,
      "metadata": {
        "id": "6enRQI5hpvtp"
      },
      "outputs": [
        {
          "name": "stdout",
          "output_type": "stream",
          "text": [
            "<class 'cryptography.hazmat.backends.openssl.rsa._RSAPrivateKey'>\n",
            "<cryptography.hazmat.backends.openssl.rsa._RSAPrivateKey object at 0x0000024730851040>\n",
            "<class 'cryptography.hazmat.backends.openssl.rsa._RSAPublicKey'>\n",
            "<cryptography.hazmat.backends.openssl.rsa._RSAPublicKey object at 0x0000024732492490>\n"
          ]
        }
      ],
      "source": [
        "# генерация пары ключей для асимметричного алгоритма шифрования\n",
        "from cryptography.hazmat.primitives.asymmetric import rsa\n",
        "from cryptography.hazmat.primitives import serialization\n",
        "\n",
        "keys = rsa.generate_private_key(\n",
        "    public_exponent=65537,\n",
        "    key_size=2048\n",
        ")\n",
        "private_key = keys\n",
        "public_key = keys.public_key()\n",
        "\n",
        "print(type(private_key))\n",
        "print(private_key)\n",
        "print(type(public_key))\n",
        "print(public_key)"
      ]
    },
    {
      "cell_type": "code",
      "execution_count": 8,
      "metadata": {
        "id": "r7j9V_HMqeAZ"
      },
      "outputs": [],
      "source": [
        "# сериализация открытого ключа в файл\n",
        "public_pem = 'public.pem'\n",
        "with open(public_pem, 'wb') as public_out:\n",
        "        public_out.write(public_key.public_bytes(encoding=serialization.Encoding.PEM,\n",
        "             format=serialization.PublicFormat.SubjectPublicKeyInfo))\n",
        "\n",
        "# сериализация закрытого ключа в файл\n",
        "private_pem = 'private.pem'\n",
        "with open(private_pem, 'wb') as private_out:\n",
        "        private_out.write(private_key.private_bytes(encoding=serialization.Encoding.PEM,\n",
        "              format=serialization.PrivateFormat.TraditionalOpenSSL,\n",
        "              encryption_algorithm=serialization.NoEncryption()))"
      ]
    },
    {
      "cell_type": "code",
      "execution_count": 9,
      "metadata": {
        "id": "nmBYMOpjqxOw"
      },
      "outputs": [
        {
          "name": "stdout",
          "output_type": "stream",
          "text": [
            "<class 'cryptography.hazmat.backends.openssl.rsa._RSAPrivateKey'>\n",
            "<cryptography.hazmat.backends.openssl.rsa._RSAPrivateKey object at 0x00000247326FAC70>\n",
            "<class 'cryptography.hazmat.backends.openssl.rsa._RSAPublicKey'>\n",
            "<cryptography.hazmat.backends.openssl.rsa._RSAPublicKey object at 0x00000247326FADC0>\n"
          ]
        }
      ],
      "source": [
        "from cryptography.hazmat.primitives.serialization import load_pem_public_key, load_pem_private_key\n",
        "\n",
        "# десериализация открытого ключа\n",
        "with open(public_pem, 'rb') as pem_in:\n",
        "  public_bytes = pem_in.read()\n",
        "d_public_key = load_pem_public_key(public_bytes)\n",
        "# десериализация закрытого ключа\n",
        "with open(private_pem, 'rb') as pem_in:\n",
        "  private_bytes = pem_in.read()\n",
        "d_private_key = load_pem_private_key(private_bytes,password=None,)\n",
        "\n",
        "print(type(d_private_key))\n",
        "print(d_private_key)\n",
        "print(type(d_public_key))\n",
        "print(d_public_key)"
      ]
    },
    {
      "cell_type": "code",
      "execution_count": 10,
      "metadata": {
        "id": "dFCQIx48rJ0G"
      },
      "outputs": [
        {
          "name": "stdout",
          "output_type": "stream",
          "text": [
            "b'n\\x8d`?\\x1byHf\\x85\\x8c\\xa3\\x95<\\x16$M\\x0f}\\xac\\xd8\\xc9\\xe1\\xe9\\xed\\x0f\\xa7\\xcde\\xcd;\\xe68\\xf1z\\xcd$bt}\\x07+\\x91\"\\xe1\\x91\\x1d\\xe1\\xe30\\x18\\xbe\\xdf\\x84}Z,\\xd05\\x19-\\x95\\xe2\\xe4\\x1e\\xe1\\x92#\\xc9\\xf2x\\xceg\\xden\\xc89\\xa7\\xd2l\\x90\\x1bnt\\xea\\xf6e\\x96\\xb3 -\\x9a!j\\xc4\\xe6@\\xb5\\xfb\\x95\\x98\\xcfQ\\x9c\\xdd\\xf4\\xfc/\\x83#\\t\\xffCdqSQ\\xc2G\\xa7\\xa5W\\xe4\\xb0\\xf3\\xdedwc\\xe6\\t\\x84Ol&\\x84\\x97\\xda\\xa7\\x1b\\xc1f\\x04\\x96$\\x12\\xbe]\\xb7\\x92\\x12\\x8f\\xe2,E.\\x0e\\xaf\\xe4\\xb9\\xd8\\xa8mQ\\xebA9\\x96\"\\xb6.\\xea3[`\\x99\\x1e\\xb1\\xc5\\x1f\\x98\\xcd\\x93\\x8e\\x96\\x1f`@r!\\x80\\xa2\\x88{7K\\xbf&!\\x96t\\x1d\\x11\\xae\\xce\\x80&\\x96H\\xe1X\\xba>\\x9aT\\x18\\xe7vli~\\xb0M\\x91qE\\x13z\\xb4\\x91`\\x841\\xba\\x116q\\xad\\xec\\x855EU\\xfd\\xf3!)\\x8f%;\\xb7U\\x06\\xc1\\x1b\\x08\\xdc'\n"
          ]
        }
      ],
      "source": [
        "from cryptography.hazmat.primitives.asymmetric import padding\n",
        "from cryptography.hazmat.primitives import hashes\n",
        "\n",
        "# шифрование текста при помощи RSA-OAEP (это усиливающая классический RSA cхема с использованием двух криптостойких хеш-функций и паддинга, если интересно, можно почитать здесь https://habr.com/ru/post/99376/)\n",
        "text= bytes('кто прочитал тот воскреснет', 'UTF-8')\n",
        "c_text = public_key.encrypt(text, padding.OAEP(mgf=padding.MGF1(algorithm=hashes.SHA256()),algorithm=hashes.SHA256(),label=None))\n",
        "\n",
        "print(c_text)"
      ]
    },
    {
      "cell_type": "code",
      "execution_count": 11,
      "metadata": {
        "id": "oVmJJcEmrNWt"
      },
      "outputs": [
        {
          "name": "stdout",
          "output_type": "stream",
          "text": [
            "кто прочитал тот воскреснет\n"
          ]
        }
      ],
      "source": [
        "# дешифрование текста асимметричным алгоритмом\n",
        "dc_text = private_key.decrypt(c_text,padding.OAEP(mgf=padding.MGF1(algorithm=hashes.SHA256()),algorithm=hashes.SHA256(),label=None))\n",
        "\n",
        "print(dc_text.decode('UTF-8'))"
      ]
    },
    {
      "attachments": {},
      "cell_type": "markdown",
      "metadata": {
        "id": "-ytAMWrtA37O"
      },
      "source": [
        "## Варианты заданий\n",
        "Далее приведены симметричные алгоритмы шифрования для различных вариантов лабораторной. Вариант $v$ предлагается выбрать как $ v = rem(i,9)$, где $i$ - порядковый номер студента в списке.    \n",
        "\n",
        "Грубо говоря, варианты (в основном) отличаются вызовом определенного метода библиотеки и длиной ключа, который необходимо сгенерировать. \n",
        "\n",
        "*Помимо работающего приложения, для сдачи необходимо изучить и рассказать  исторические аспекты используемого симметричного алгоритма - когда, кем и для каких целей он был разработан, считается ли  сегодня криптостойким, к каким атакам алгоритм уязвим, принят ли он в качестве стандарта шифрования на официальном уровне каким-либо государством.*"
      ]
    },
    {
      "cell_type": "markdown",
      "metadata": {
        "id": "sxBuIHZ1eJJC"
      },
      "source": [
        "Варианты:  \n",
        "1. [**AES**](https://cryptography.io/en/latest/hazmat/primitives/symmetric-encryption/#cryptography.hazmat.primitives.ciphers.algorithms.AES), длина ключа 128,192,256 бит - *предусмотреть пользовательский выбор длины ключа*;  \n",
        "2. [**Camellia**](https://cryptography.io/en/latest/hazmat/primitives/symmetric-encryption/#cryptography.hazmat.primitives.ciphers.algorithms.Camellia), длина ключа 128,192,256 бит - *предусмотреть пользовательский выбор длины ключа*;  \n",
        "3. [**ChaCha20**](https://cryptography.io/en/latest/hazmat/primitives/symmetric-encryption/#cryptography.hazmat.primitives.ciphers.algorithms.ChaCha20), длина ключа 256 бит, есть дополнительный параметр - одноразовое случайное число 128 бит - *предусмотреть сериализацию/десериализацию этого параметра*;  \n",
        "4. [**3DES**](https://cryptography.io/en/latest/hazmat/primitives/symmetric-encryption/#cryptography.hazmat.primitives.ciphers.algorithms.TripleDES), длина ключа 64, 128, 192 бит - *предусмотреть пользовательский выбор длины ключа*;  \n",
        "5. [**CAST5**](https://cryptography.io/en/latest/hazmat/primitives/symmetric-encryption/#cryptography.hazmat.primitives.ciphers.algorithms.CAST5), длина ключа от 40 до 128 бит с шагом 8 бит - *предусмотреть пользовательский выбор длины ключа*;  \n",
        "6. [**SEED**](https://cryptography.io/en/latest/hazmat/primitives/symmetric-encryption/#cryptography.hazmat.primitives.ciphers.algorithms.SEED), длина ключа 128 бит;  \n",
        "7. [**SM4**](https://cryptography.io/en/latest/hazmat/primitives/symmetric-encryption/#cryptography.hazmat.primitives.ciphers.algorithms.SM4), длина ключа 128 бит;  \n",
        "8. [**Blowfish**](https://cryptography.io/en/latest/hazmat/primitives/symmetric-encryption/#cryptography.hazmat.primitives.ciphers.algorithms.Blowfish), длина ключа от 32 до 448 бит с шагом 8 бит - *предусмотреть пользовательский выбор длины ключа*;  \n",
        "9. [**IDEA**](https://cryptography.io/en/latest/hazmat/primitives/symmetric-encryption/#cryptography.hazmat.primitives.ciphers.algorithms.ARC4), длина ключа 128 бит.  \n"
      ]
    }
  ],
  "metadata": {
    "colab": {
      "name": "ISB_Lab3.ipynb",
      "provenance": [],
      "toc_visible": true
    },
    "kernelspec": {
      "display_name": "base",
      "language": "python",
      "name": "python3"
    },
    "language_info": {
      "codemirror_mode": {
        "name": "ipython",
        "version": 3
      },
      "file_extension": ".py",
      "mimetype": "text/x-python",
      "name": "python",
      "nbconvert_exporter": "python",
      "pygments_lexer": "ipython3",
      "version": "3.9.13"
    },
    "vscode": {
      "interpreter": {
        "hash": "960e651994a923c8580311382dd3517ae83689739d490e324b89482666af2124"
      }
    }
  },
  "nbformat": 4,
  "nbformat_minor": 0
}
