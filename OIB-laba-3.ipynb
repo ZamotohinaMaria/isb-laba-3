{
 "cells": [
  {
   "cell_type": "code",
   "execution_count": 44,
   "metadata": {},
   "outputs": [],
   "source": [
    "import argparse\n",
    "from cryptography.hazmat.primitives.asymmetric import rsa\n",
    "from cryptography.hazmat.primitives import serialization\n",
    "from cryptography.hazmat.primitives import padding\n",
    "from cryptography.hazmat.primitives.asymmetric import padding\n",
    "from cryptography.hazmat.primitives import hashes\n",
    "from cryptography.hazmat.primitives.serialization import load_pem_public_key, load_pem_private_key\n",
    "import os\n",
    "import random"
   ]
  },
  {
   "attachments": {},
   "cell_type": "markdown",
   "metadata": {},
   "source": [
    "### 1. Генерация ключей гибридной системы"
   ]
  },
  {
   "cell_type": "code",
   "execution_count": 52,
   "metadata": {},
   "outputs": [],
   "source": [
    "way = os.path.abspath('')\n",
    "file_settings= {\n",
    "    'initial_file': way + '\\\\' + 'initial_file.txt',\n",
    "    'encrypted_file': way + '\\\\' + 'encrypted_file.txt',\n",
    "    'decrypted_file': way + '\\\\' + 'decrypted_file.txt',\n",
    "    'symmetric_key': way + '\\\\' + 'symmetric_key.txt',\n",
    "    'public_key': way + '\\\\' + 'public_key.pem',\n",
    "    'private_key': way + '\\\\' + 'private_key.pem',\n",
    "}\n",
    "\n",
    "keys = [i for i in range(40, 129, 8)]\n"
   ]
  },
  {
   "attachments": {},
   "cell_type": "markdown",
   "metadata": {},
   "source": [
    "генерация ключа для симметричного алгоритма"
   ]
  },
  {
   "cell_type": "code",
   "execution_count": 60,
   "metadata": {},
   "outputs": [],
   "source": [
    "def gen_keys(file_settings: dict, keys: list):\n",
    "    len_key = random.randint(0, len(keys) - 1)\n",
    "    key = os.urandom(keys[len_key])\n",
    "    print('Ключ симметричного шифрования:')\n",
    "    print(type(key))\n",
    "    print(key)\n",
    "    \n",
    "    assym_keys = rsa.generate_private_key(\n",
    "        public_exponent=65537,\n",
    "        key_size=2048\n",
    "    )\n",
    "    private_key = assym_keys\n",
    "    public_key = assym_keys.public_key()\n",
    "    \n",
    "    print('\\nЗакрытый ключ ассимметричного шифрования:')\n",
    "    print(type(private_key))\n",
    "    print(private_key)\n",
    "    print('\\nОтрытый ключ ассимметричного шифрования:')\n",
    "    print(type(public_key))\n",
    "    print(public_key)\n",
    "    \n",
    "    c_key = public_key.encrypt(key, padding.OAEP(mgf=padding.MGF1(algorithm=hashes.SHA256()),algorithm=hashes.SHA256(),label=None))\n",
    "    print('\\nЗашифрованный ключ симметричного шифрования')\n",
    "    print(c_key)\n",
    "    # сериализация открытого ключа в файл\n",
    "    with open(file_settings['public_key'], 'wb') as public_out:\n",
    "            public_out.write(public_key.public_bytes(encoding=serialization.Encoding.PEM,\n",
    "            format=serialization.PublicFormat.SubjectPublicKeyInfo))\n",
    "\n",
    "    # сериализация закрытого ключа в файл\n",
    "    with open(file_settings['private_key'], 'wb') as private_out:\n",
    "            private_out.write(private_key.private_bytes(encoding=serialization.Encoding.PEM,\n",
    "            format=serialization.PrivateFormat.TraditionalOpenSSL,\n",
    "            encryption_algorithm=serialization.NoEncryption()))\n",
    "            \n",
    "    c_key = public_key.encrypt(key, padding.OAEP(mgf=padding.MGF1(algorithm=hashes.SHA256()),algorithm=hashes.SHA256(),label=None))\n",
    "    with open(file_settings['symmetric_key'], 'wb') as key_file:\n",
    "        key_file.write(c_key)"
   ]
  },
  {
   "attachments": {},
   "cell_type": "markdown",
   "metadata": {},
   "source": [
    "генерация пары ключей для acсимметричного алгоритма"
   ]
  },
  {
   "cell_type": "code",
   "execution_count": 61,
   "metadata": {},
   "outputs": [
    {
     "name": "stdout",
     "output_type": "stream",
     "text": [
      "Ключ симметричного шифрования:\n",
      "<class 'bytes'>\n",
      "b'\\xd8St\\xdd\\xf9\\x0f\\xf0\\xd1[Y\\xa4\\x8a\\xbd\\x0e\"8\\xd0\\x9ct\\x13\\xa2\\t\\xd5T\\xcc\\x83\\xbf\\xd3|\\xa4\\x9f\\xd6\\xf9\\xe9\\xed\\'\\x05\\x88rMXy@\\x15\\xad\\xddt\\xd5'\n",
      "\n",
      "Закрытый ключ ассимметричного шифрования:\n",
      "<class 'cryptography.hazmat.backends.openssl.rsa._RSAPrivateKey'>\n",
      "<cryptography.hazmat.backends.openssl.rsa._RSAPrivateKey object at 0x000002ACEBBB04F0>\n",
      "\n",
      "Отрытый ключ ассимметричного шифрования:\n",
      "<class 'cryptography.hazmat.backends.openssl.rsa._RSAPublicKey'>\n",
      "<cryptography.hazmat.backends.openssl.rsa._RSAPublicKey object at 0x000002ACEBC75D90>\n",
      "\n",
      "Зашифрованный ключ симметричного шифрования\n",
      "b'/\\xc4\\x9cQ\\xf2D\\x00*\\xefq5\\xb1\\xed6\\xad\\xb4R\\xc5\\xa9\\x84\\x9f\\x95@\\x02j\\xf1y\\xad\\x0b\\xe8\\x0b\\xf5\\x9f\\xe1l\\x05\\x1f\\xbeK\\x95\\xaa\\xd7;\\xeet\\xa9\\n\\t\\x1c}cZ\\xf2\\xbf\\xb9\\x8c^H\\xfb\\xa3g&\\xb5\\x04U\\x8b\\xbf/\\x1b\\xdc\\x7f\\xdaV\\x9d\\xa2\\xda~\\xfc\\x83\\x80\\x1d\\x03\\x86\\xdd\\xfb\\x89yr\\xffB2\\xb0<\\x19\\xcc\\xc9\\xbf`%\\xa4\\x05\\x8d\\xb1s\\xfc\\xfcf\\xeay1\\xe9\\x0c\\xfbq\\xf7\\x17\\xb7|W\\x01\\xaf\\x83\\xbee\\xeb{\\xa4\\xd7\\xc0k2\\xed\\x1dm\\xc9a\\xa7\\xfa\\xbcQ\\x9e\\x95`-\\xd3\\xa9cN\\x90\\xe61\\r\\xda\\x0eE>\\x8d\\x15\\xd56m\\x05\\x02p\\x83o\\x928!\\xa5<A\\x8a\\xf2\\xf4co\\x16K_\\x9am\\xc6\\x86\\xfa\\x85T!\\x04Qd\\xd3@e\\x90\\n4t\\xb1\\xb8O\\xcc\\xa1|\\x0c\\xfbC\\x90]~\\xbc\\x8a\\xd1\\xf2\\x81\\xa6#\\xc9\\xeeZ\\xfd\\xfa\\x0f(\\xb0\\x19!i\\xf3\\x17\\t\\x84{u\\xdf-\\x0b\\x9fe\\xc0O\\x04\\x8d\\xed\\xb4P\\xf4aL\\xcaw\\x08\\x11s\\xbaI'\n"
     ]
    }
   ],
   "source": [
    "gen_keys(file_settings, keys)"
   ]
  },
  {
   "attachments": {},
   "cell_type": "markdown",
   "metadata": {},
   "source": [
    "### 2. Шифрование данных гибридной системой"
   ]
  },
  {
   "cell_type": "code",
   "execution_count": null,
   "metadata": {},
   "outputs": [],
   "source": []
  }
 ],
 "metadata": {
  "kernelspec": {
   "display_name": "base",
   "language": "python",
   "name": "python3"
  },
  "language_info": {
   "codemirror_mode": {
    "name": "ipython",
    "version": 3
   },
   "file_extension": ".py",
   "mimetype": "text/x-python",
   "name": "python",
   "nbconvert_exporter": "python",
   "pygments_lexer": "ipython3",
   "version": "3.9.13"
  },
  "orig_nbformat": 4,
  "vscode": {
   "interpreter": {
    "hash": "960e651994a923c8580311382dd3517ae83689739d490e324b89482666af2124"
   }
  }
 },
 "nbformat": 4,
 "nbformat_minor": 2
}
