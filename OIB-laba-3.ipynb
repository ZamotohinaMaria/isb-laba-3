{
 "cells": [
  {
   "cell_type": "code",
   "execution_count": 14,
   "metadata": {},
   "outputs": [],
   "source": [
    "import argparse\n",
    "from cryptography.hazmat.primitives.asymmetric import rsa\n",
    "from cryptography.hazmat.primitives import serialization\n",
    "from cryptography.hazmat.primitives import hashes\n",
    "from cryptography.hazmat.primitives.asymmetric import padding as as_padding\n",
    "from cryptography.hazmat.primitives import padding as sym_padding\n",
    "from cryptography.hazmat.primitives.ciphers import Cipher, algorithms, modes\n",
    "from cryptography.hazmat.primitives.serialization import load_pem_public_key, load_pem_private_key\n",
    "import os\n",
    "import random"
   ]
  },
  {
   "attachments": {},
   "cell_type": "markdown",
   "metadata": {},
   "source": [
    "### 1. Генерация ключей гибридной системы"
   ]
  },
  {
   "cell_type": "code",
   "execution_count": 48,
   "metadata": {},
   "outputs": [],
   "source": [
    "way = os.path.abspath('')\n",
    "file_settings= {\n",
    "    'initial_file': way + '\\\\' + 'initial_file.txt',\n",
    "    'encrypted_file': way + '\\\\' + 'encrypted_file.txt',\n",
    "    'decrypted_file': way + '\\\\' + 'decrypted_file.txt',\n",
    "    'symmetric_key': way + '\\\\' + 'symmetric_key.txt',\n",
    "    'public_key': way + '\\\\' + 'public_key.pem',\n",
    "    'private_key': way + '\\\\' + 'private_key.pem',\n",
    "}\n",
    "\n",
    "keys = [i for i in range(5, 17, 1)]\n"
   ]
  },
  {
   "attachments": {},
   "cell_type": "markdown",
   "metadata": {},
   "source": [
    "генерация ключа для симметричного алгоритма"
   ]
  },
  {
   "cell_type": "code",
   "execution_count": 49,
   "metadata": {},
   "outputs": [],
   "source": [
    "def gen_keys(file_settings: dict, keys: list):\n",
    "    len_key = random.randint(0, len(keys) - 1)\n",
    "    key = os.urandom(keys[len_key])\n",
    "    print('Ключ симметричного шифрования:')\n",
    "    print(type(key))\n",
    "    print(key)\n",
    "    \n",
    "    assym_keys = rsa.generate_private_key(\n",
    "        public_exponent=65537,\n",
    "        key_size=2048\n",
    "    )\n",
    "    private_key = assym_keys\n",
    "    public_key = assym_keys.public_key()\n",
    "    \n",
    "    print('\\nЗакрытый ключ ассимметричного шифрования:')\n",
    "    print(type(private_key))\n",
    "    print(private_key)\n",
    "    print('\\nОтрытый ключ ассимметричного шифрования:')\n",
    "    print(type(public_key))\n",
    "    print(public_key)\n",
    "    \n",
    "    c_key = public_key.encrypt(key, as_padding.OAEP(mgf=as_padding.MGF1(algorithm=hashes.SHA256()),algorithm=hashes.SHA256(),label=None))\n",
    "    print('\\nЗашифрованный ключ симметричного шифрования')\n",
    "    print(c_key)\n",
    "    \n",
    "    with open(file_settings['public_key'], 'wb') as public_out:\n",
    "            public_out.write(public_key.public_bytes(encoding=serialization.Encoding.PEM,\n",
    "            format=serialization.PublicFormat.SubjectPublicKeyInfo))\n",
    "\n",
    "    with open(file_settings['private_key'], 'wb') as private_out:\n",
    "            private_out.write(private_key.private_bytes(encoding=serialization.Encoding.PEM,\n",
    "            format=serialization.PrivateFormat.TraditionalOpenSSL,\n",
    "            encryption_algorithm=serialization.NoEncryption()))\n",
    "            \n",
    "    with open(file_settings['symmetric_key'], 'wb') as key_file:\n",
    "        key_file.write(c_key)"
   ]
  },
  {
   "attachments": {},
   "cell_type": "markdown",
   "metadata": {},
   "source": [
    "генерация пары ключей для acсимметричного алгоритма"
   ]
  },
  {
   "cell_type": "code",
   "execution_count": 50,
   "metadata": {},
   "outputs": [
    {
     "name": "stdout",
     "output_type": "stream",
     "text": [
      "Ключ симметричного шифрования:\n",
      "<class 'bytes'>\n",
      "b'\\xe7\\x12\\xa6\\xc6\\xab1'\n",
      "\n",
      "Закрытый ключ ассимметричного шифрования:\n",
      "<class 'cryptography.hazmat.backends.openssl.rsa._RSAPrivateKey'>\n",
      "<cryptography.hazmat.backends.openssl.rsa._RSAPrivateKey object at 0x000001F3BFD0C880>\n",
      "\n",
      "Отрытый ключ ассимметричного шифрования:\n",
      "<class 'cryptography.hazmat.backends.openssl.rsa._RSAPublicKey'>\n",
      "<cryptography.hazmat.backends.openssl.rsa._RSAPublicKey object at 0x000001F3BFD0C4F0>\n",
      "\n",
      "Зашифрованный ключ симметричного шифрования\n",
      "b'\\x1c\\x0f\\x84\\x8b\\x92\\xf5W\\x8d\\x91\\xdb\\'\\x1a\\xbe\\xa5\\xacq%\\xa4\\x00\\x9fQ\\xc0\\xed\\xf2z* H\\xfb\\xde\\x00\\xdd\\xbdwA*%\\x08\\xb7l\\xf63\\xc3\\xc0\\xe4H\\xa1\\xaa\\x8a\\x99\\x02\\x8a\"vU\\xba\\xbe/\\xa7~0z\\x8f\\xc1[\\x8a\\xe8\\xad\\x029\\xc2\\xfa\\xb1\\xfce\\xac\\xa8A\\xde$\\x9c\\xa8l\\xe2r\\xac}\\x97\\x1da\\xae\\xe8\\xcc\\xdc7\\xf4)\\xe2\\xd4\\x95\\x9fn\\xac\\xf0y\\xd9\\xda\\xe8\\x12\\xcc^S\\xe8\\xec\\x15\\xde\\xf4\\x98K2;\\x8d\\xd9I\\xa2\\xd08V\\xc0\\xcex=\\xbc\\x9e#\\x0eS\\x1d#0\\x1e]\\xca\\xc2\\x04\\xe2j\\xeb\\xe8k;\\xd1\\xe9L\\x0e\\x7f\\xd8\\xde\\xf2\\x87\\r\\xdbGg\\x0f\\x95{\\xb5\\xc1^\\xce-\\xbc\\xce\\x9b\\x12ra\\x19\\x15\\xda\\xeb\\xa8\\xc1$\\x057\\xf65\\xa2,apV\\xe0yD--c\\x8c\\xb9\\x16\\x91\\xbf?$6\\xc1\\xbf\\xf8#\\xf7^\\xf5d\\x17\\xdd\\x93\\xf5\\xd5\\xb0\\xed\\xc7R\\x0cL\\xd4\\xbbc)C%A\\xa7\\x11\\x9b\\xc3?\\x02\\x85\\xa1\\xe0\\xe0\\xd2\\x00\\xc0\\xaa\\x1a\\xc3n\\xca\\xb3.g\\xbb'\n"
     ]
    }
   ],
   "source": [
    "gen_keys(file_settings, keys)"
   ]
  },
  {
   "attachments": {},
   "cell_type": "markdown",
   "metadata": {},
   "source": [
    "### 2. Шифрование данных гибридной системой"
   ]
  },
  {
   "cell_type": "code",
   "execution_count": 58,
   "metadata": {},
   "outputs": [],
   "source": [
    "def sym_key_decryption(file_settings: dict):\n",
    "    with open(file_settings['private_key'], 'rb') as file:\n",
    "        private_bytes = file.read()\n",
    "    d_private_key = load_pem_private_key(private_bytes,password=None,)\n",
    "    print('\\nЗасшифрованный ассимметричный ключ:', d_private_key)\n",
    "\n",
    "    with open(file_settings['symmetric_key'], 'rb') as file:\n",
    "        sym_key = file.read()\n",
    "        \n",
    "    print('Ключ симметричного шифрования:', sym_key)\n",
    "  \n",
    "    dec_sym_key = d_private_key.decrypt(sym_key,as_padding.OAEP(mgf=as_padding.MGF1(algorithm=hashes.SHA256()),algorithm=hashes.SHA256(),label=None))\n",
    "    \n",
    "    print('\\nРасшифрованный люч симметричного шифрования:', dec_sym_key)\n",
    "    \n",
    "    return dec_sym_key\n",
    "    \n",
    "    "
   ]
  },
  {
   "cell_type": "code",
   "execution_count": 59,
   "metadata": {},
   "outputs": [],
   "source": [
    "def text_encryption(file_settings: dict):\n",
    "    with open(file_settings['initial_file'], 'r', encoding = 'UTF-8') as file:\n",
    "        text = file.read()\n",
    "    print('Исходный текст:\\n', text)\n",
    "    \n",
    "    dec_sym_key = sym_key_decryption(file_settings)\n",
    "    \n",
    "    padder = sym_padding.ANSIX923(32).padder()\n",
    "    padded_text = padder.update(bytes(text, 'UTF-8'))+padder.finalize()\n",
    "\n",
    "    iv = os.urandom(8) #случайное значение для инициализации блочного режима, должно быть размером с блок и каждый раз новым\n",
    "    cipher = Cipher(algorithms.CAST5(dec_sym_key), modes.CBC(iv))\n",
    "    encryptor = cipher.encryptor()\n",
    "    enc_text = encryptor.update(padded_text) + encryptor.finalize()\n",
    "    \n",
    "    print('зашифрованный текст')\n",
    "    print(enc_text)\n",
    "    \n",
    "    with open(file_settings['encrypted_file'], 'wb') as file:\n",
    "        file.write(enc_text)"
   ]
  },
  {
   "cell_type": "code",
   "execution_count": 60,
   "metadata": {},
   "outputs": [
    {
     "name": "stdout",
     "output_type": "stream",
     "text": [
      "Исходный текст:\n",
      " КОНСТИТУЦИЯ РОССИЙСКОЙ ФЕДЕРАЦИИ Мы, многонациональный народ Российской Федерации, соединенные общей судьбой на своей земле, утверждая права и свободы человека, гражданский мир и согласие, сохраняя исторически сложившееся государственное единство, исходя из общепризнанных принципов равноправия и самоопределения народов, чтя память предков, передавших нам любовь и уважение к Отечеству, веру в добро и справедливость, возрождая суверенную государственность России и утверждая незыблемость ее демократической основы, стремясь обеспечить благополучие и процветание России, исходя из ответственности за свою Родину перед нынешним и будущими поколениями, сознавая себя частью мирового сообщества, принимаем КОНСТИТУЦИЮ РОССИЙСКОЙ ФЕДЕРАЦИИ.\n",
      "\n",
      "Засшифрованный ассимметричный ключ: <cryptography.hazmat.backends.openssl.rsa._RSAPrivateKey object at 0x000001F3BFD31A60>\n",
      "Ключ симметричного шифрования: b'\\x1c\\x0f\\x84\\x8b\\x92\\xf5W\\x8d\\x91\\xdb\\'\\x1a\\xbe\\xa5\\xacq%\\xa4\\x00\\x9fQ\\xc0\\xed\\xf2z* H\\xfb\\xde\\x00\\xdd\\xbdwA*%\\x08\\xb7l\\xf63\\xc3\\xc0\\xe4H\\xa1\\xaa\\x8a\\x99\\x02\\x8a\"vU\\xba\\xbe/\\xa7~0z\\x8f\\xc1[\\x8a\\xe8\\xad\\x029\\xc2\\xfa\\xb1\\xfce\\xac\\xa8A\\xde$\\x9c\\xa8l\\xe2r\\xac}\\x97\\x1da\\xae\\xe8\\xcc\\xdc7\\xf4)\\xe2\\xd4\\x95\\x9fn\\xac\\xf0y\\xd9\\xda\\xe8\\x12\\xcc^S\\xe8\\xec\\x15\\xde\\xf4\\x98K2;\\x8d\\xd9I\\xa2\\xd08V\\xc0\\xcex=\\xbc\\x9e#\\x0eS\\x1d#0\\x1e]\\xca\\xc2\\x04\\xe2j\\xeb\\xe8k;\\xd1\\xe9L\\x0e\\x7f\\xd8\\xde\\xf2\\x87\\r\\xdbGg\\x0f\\x95{\\xb5\\xc1^\\xce-\\xbc\\xce\\x9b\\x12ra\\x19\\x15\\xda\\xeb\\xa8\\xc1$\\x057\\xf65\\xa2,apV\\xe0yD--c\\x8c\\xb9\\x16\\x91\\xbf?$6\\xc1\\xbf\\xf8#\\xf7^\\xf5d\\x17\\xdd\\x93\\xf5\\xd5\\xb0\\xed\\xc7R\\x0cL\\xd4\\xbbc)C%A\\xa7\\x11\\x9b\\xc3?\\x02\\x85\\xa1\\xe0\\xe0\\xd2\\x00\\xc0\\xaa\\x1a\\xc3n\\xca\\xb3.g\\xbb'\n",
      "\n",
      "Расшифрованный люч симметричного шифрования: b'\\xe7\\x12\\xa6\\xc6\\xab1'\n",
      "зашифрованный текст\n",
      "b'\\x9e\\xd4e\\xd4\\x19\\x9a\\x04Z\\xda\\x1b\\x16\\x88\\x05\\xa7\\xdd\\x02\\xf8\\xd4\\xc6\\x19\\xf7\\xee\\xbfI\\x9e\\x90\\xf2wl\\x95c\\\\\\xae\\x0bCP#\\x9ce=\\x04\\xe0a\\xcf-\\xbc$\\x11\\xaa\\x14\\'\\xeaM}%c\\x022E\\xed+\\xb94\\x10\\x8a\\xa9\\xa0XE\\x1f\\xc69\\xb7\\x95*\\x01\\xea\\xfb1\\xdaU\\xff\\x7f\\xa4\\x06\\xa1-ZD\\x9f\\xf9\\t\\xcf\\xf9.\\xf1\\x98i\\xbc\\xa0\\x8f\\xd6K\\\\\\xff\\x7f`n\\xff\\xb8\\xf0\\xbd^\"\\x1b\\xa4\\x90a\\x99\\xaa\\xe8r\\x02\\x1d\\x1b\\xc0\\xacQ&9\\xbb\\x0e\\xc7\\xb8\\x1b\\xd7\\x00\\xf2\\x9e1\\xbbAIu\\x876A\\xf2j\\xfd%r\\x1a\\xd5\\xdc\\xf7\\xc45XL\\xa4\\xc2\\xa63\\xff0\\x89\\xb3\\xc5Y\\xf6\\x9b\\x8eOn9}\\x95\\x9a\\xa2?\\x07$&\\xca\\xb1\\xff\\xd9X\\x8c\\xcd\\x1ba\\x9b\\x94\\xbc\\xd2\\xae\\xfb\\xa3_\\x1f/\\xfa\\xf6\\x00\\xe3\\x13;\\xb48\\xe9\\xf1\\xe6\\xf4\\xdd\\xc5\\xea\\x14\\x8f\\xfc(\\x1a<\\xf9\\xaeF.c\\xa6\\x1c\\xe4\\x0c\\x94\\xb3\\x90u\\xf7\\xd3<\\xa2)\\x99\\xfc\\x9e\\xc6\"\\x97\\xd5\\xb6c\\xe5\\x95*Q_\\x1d\\x808\\xc5J:(dY\\x11\\x91?w\\xe6\\x19\\x7f\\x11\\xb1\\xd2\\xebR\\xae\\xa3\\x17C\\xce\\x06\\xcd\\xf1PI<\\x9fi\\x1f\\xcc\\xc5z\\xd1w\\xa6\\x94\\x17\\xd5R[C<\\xd2\\xf3Wja\\xde\\r\\x06\\xef\\xa8\\xf4#\\xe1\\x98,\\x9fQ&@?\\xc9%\\xf4\\xe5P\\x89\\xcf\\x0e\\xf7V\\xcc(R_\\\\\\x88E\\xed\\x07\\x84\\x90Z\\x86\\xba\\\\x@\\xcb\\xa6\\xd0E\\xc4\\xd2\\x9316\\x06\\x08\\x15\\xd5/\\xba1B\\x9d\\xf2\\x96\\xff@\\xc7\\t\\xae\\r\\xd5\\xd8#P8\\x08\\xb1\\x81\\xb1\\xf7\\xeef\\xed\\xc6@mb^>\\xd8j\\xba>8*{\\xe2\\xe2\\x99\\xec\\xaa\\x85\\xa8)\\x9c\\x9ca\\xc0te\\xab\\x17\\x0fj\\xa5\\x04\\x88I\\x14\\xcf*\\xb8f\\xd7\\x8a\\x1dS\\xbf\\xc8>\\x9b\\xd3\\x1b\\xfd.\\x85%\\x9f\\x0fQ\\\\,\\x87\\x10\\x82\\xea\\x0f\\x11\\xdf\\x10-\\x16\\xb6f\\x1ar-@\\xc9+\\x96)s\\x91\\xdb\\xfci\\x8c\\xc6\\xa1\\x83G@\\xbf\\xe9\\xd9\\x18x`ja\\xbc\\xa0d!\\x9a}\\xf5\\xf9\\xc4$%H\\xe1b\\xc3\\xcd\\xcf\\x04\\xc0\\'/\\xe4\\xf7\\xaf\\xd4]\\xafL\\xb5\\x1d\\x83\\xff\\x05?\\xc9\\xc4\\xf5\\xbb\\xae&\\xafY\\x1bXEx^q\\x9c|\\'\\xbf\\xd9bG\\xc4\\x94\\x07\\x97\\xdda\\x98\\xb3\\x06\\xd4\\xcfyd3\\x19t\\xa7!\\x89@\\xf4\\xd9k\\xd8\\xd2\\x18Q\\xc0\\xe4\\x11\\x98\\xa5\\xd5\\xea\\xc5\\x82\\xa7\\xee \\xc2\\xb9K\\xbd\\xb6g\\\\m_o\\xeb\\x18\\xb4k7\\x95\\xb1\\x8d\\xd4\"\\xb0\\x84\\xa5\\x92\\nl\\xc8&\\xd8\\xa72\\xf2\\xe4V\\x9b4y\\xdd\\x93e\\xf5\\x1e\\xff\\x86@\\xd5\\x0c\\xac_\\xd6\\xf7.fC(\\x18\\x8aO}\\xcf\\x0f\\x03\\xda\\x1f/3x\\x81\\x92\\n\\xf8m\\x9a\\xb6\\xb6\\xd4\\xd9\\xe0G\\xb1\\xf3\\xed\\x87\\xd5\\xab\\x99\\xb8\\xe4Wn\\xbe\\xacON\\x02\\xf3\\x03\\x9e\\xf7^\\xe6\\xe1$ \\xd5\\x94\\xbd\\x9c\\xad|\\x0b\\xf4\\x18\\xc5\\x94\\x9b\\x00\\xe2U\\xc0\\xd2\\x17\\xfe\\x15\\xde\\x04x\\x80\\x01\\xc0\\xd5\\x80\\xdd\\tj\\xc5\\x02\\x18~\\x83\\x13\\x10KN\\x01\\xda\\xf7Vs\\xdf9\\x8d\\x16m\\xde\\x05\\xb9\\xd2:(\\x15\\xd0\\x06\\xbcY\\xc0\\xc8\\x8b\\xa7\\x8d<D\\x82M61\\xe5J\\xb9\\x08\\x00\\xff1\\xed\\xe6\\x08A\\xc9\\xd3I\\x0c|+\\x11Wy;\\xc7Uq\\xcb\\x1d\\x14b\\xebtO$|\\x9bD\\xe6\\xcaO\\xfae\\xe1\\x13\\xbb\\x95\\x0e\\x13\\xb64_-\\x17\\xb9\\xec\\xa3T\"\\x98\\x9d\\x82\\xeb\\xfe@o\\n\\xcc\\x8bX\\x1en\\xa8Z[L\\x97@\\x00\\xa1op\\xac\\xd9\\xd6\\xf4x\\x9a\\x815\\x05E\\xac\\xe2\\xdc\\xa4m\\xb2S\\x12\\xb1\\xe0=Y8P\\xa7l;\\xda\\xe1w\\xd7?L\\xcc\\xf8P\\x15o9[\\x9b\\xfe.\\x03 a\\xe6\\xafb\\x07?-\\x87\\x82.+\\x81\\x89\\x10p\\x9c\\x85\\xd3\\xab\\rk\\xec\\x16\\xab\\x8a\\\\is\\x8c\\xc1\\xfaB[Od#\\xe7x\\xc5\\xb8|\\x0c\\xc2E\\xefLT\\xa9\\xf7t\\xfe\\xd9~\\x8bEQR\\xde\\xe3\"\\x02\\x93T\\xe7a\\x0e\\x8a\\xff\\x154cW\\x8c\\xb6o\\x0e7\\x9f^\\xc7 c\\x96\\xcb\\xb4\\xfa\\x16\\xab\\x8f\\xf7\\xb7\\xa7\\xec\\xe2T\\xceG\\xe8!k\\xe8\\x9e\\xf5\\xb8%GQ4\\x179/\"\\xbf\\xce:\\'\\xf9\\xf1U.+9=x\\xe4\\xe4`\\x0b\\x9aOS-R,\\xbbD\\x9bp\\xea\\n:~\\xbb\\x06\\xcd\\x0bz0\\x93\\xd7\\xbf\\xd3\\x8cmg\\xc3\\x84\\x86\\x0c\\x7f@/\\x91\\xb7\\xd9b\\t\\xbc\\xfc]\\x80\\x18\\xa5\\x93\\xcd\\x1f(\\xb8/IY\\xea\\xc8\\xb8\\xdf\\x99\\xd1\\x8d\\x9b\\xc9\\xde\\xbe\\xdfo\\x12\\xd0uG\\x8af\\xc5z6\\xbb\\x1e\\x02Z\\x13}(\\xf3<\\xf4\\xf6\\xd0\\xbe\\xf8\\xcbVA:\\xb2\\x80\\x95\\x8cd\\xbf\\xd4s\\tHO\\xb7\\x87a\\x89\\x8e\\x9d\\xeb\\xdauQq\\rY\\x0e\\xb7a\\xa1_B\\xbf\\xf9E\\xd4\\xc0\\xc4\\xff\\xe9\\x06k?\\xea\\x11\\x97\\x8c\\x91\\xb5H9S\\xe2v${\\xc8(j\\x9b\\x06V\\xd8\\x9b\\xfa\\xdb<\\'\\xa6\\x08\\x96\\x02\\tC\\xab\\x01{0\\xba\\xf8\\x88\\xc7\\x96\\xd8t\\xf4<\\xbe\\xae\\xe0\\xc1\\xfa@\\xbbU\\xbd\\x86\\xd7 \\xbct\\x92\\r\\x8b\\xeb\\xfc\\xce2\\x82m6\\xde\\x81\\xf5\\xcc\\x14\\x96\\x10I\\x04\\xb7\\xad$\\xfd\\xa2\\xfc\\xb5Y9\\xc8\\xc7=o\\xfcL\\x11\\x9a\\xba5A\\x19\\xce\\x1b\\xfe\\xe2\\xc6AO\\xadrt\\x99\\xd7gN\\xec\\xd3\\xec\\x95\\x8bZ:\\x17\\xc44\\xed\\xe1\\xcf\\xe5(c\\xc4\\xab\\x1ds\\xc1?\\xe9z*\\x03\\xa7\\xf9\\x91\\x1b\\xf4\\xa7\\xa2\\xba\\xf6?b(s\\xb7\\x95 \\xe4\\x1ff\\xd6We\\x8c2\\xc1\\x14\\x80\\xc2*|j\\x96+\\xba\\x1c\\x9e\\x88\\x155\\xb6\\xd7\\xa1\\xf2\\xdd\\x94\\x82\\xb1\\x06\\xef\\xfe\\x93kn\\xd8$\\xa2@G\\xb9m\\xb1d\\xb0cL\\xa4\\x1e\\x00b\\x12\\xeb9\\x07O\\x8f\\x17\\x83ui`\\xe3\\xe7\\xdd-\\xf3\\xff\\xb8c\\xae\\xd77Z\\xa3l'\n"
     ]
    },
    {
     "name": "stderr",
     "output_type": "stream",
     "text": [
      "C:\\Users\\Marishka\\AppData\\Local\\Temp\\ipykernel_14892\\507232674.py:12: CryptographyDeprecationWarning: CAST5 has been deprecated\n",
      "  cipher = Cipher(algorithms.CAST5(dec_sym_key), modes.CBC(iv))\n"
     ]
    }
   ],
   "source": [
    "text_encryption(file_settings)"
   ]
  },
  {
   "attachments": {},
   "cell_type": "markdown",
   "metadata": {},
   "source": [
    "### 3. Дешифрование данных гибридной системой"
   ]
  },
  {
   "cell_type": "code",
   "execution_count": 63,
   "metadata": {},
   "outputs": [],
   "source": [
    "def text_decryption(file_settings: dict):\n",
    "    with open(file_settings['encrypted_file'], 'rb') as file:\n",
    "        enc_text = file.read()\n",
    "    print('Зашифрованный текст:\\n', enc_text)\n",
    "    \n",
    "    iv = os.urandom(8)\n",
    "    dec_sym_key = sym_key_decryption(file_settings)\n",
    "    cipher = Cipher(algorithms.CAST5(dec_sym_key), modes.CBC(iv))\n",
    "    \n",
    "    decryptor = cipher.decryptor()\n",
    "    dc_text = decryptor.update(enc_text) + decryptor.finalize()\n",
    "\n",
    "    unpadder = sym_padding.ANSIX923(32).unpadder()\n",
    "    unpadded_dc_text = unpadder.update(dc_text) + unpadder.finalize()\n",
    "\n",
    "    print(dc_text.decode('UTF-8'))\n",
    "    print(unpadded_dc_text.decode('UTF-8'))"
   ]
  },
  {
   "cell_type": "code",
   "execution_count": 64,
   "metadata": {},
   "outputs": [
    {
     "name": "stdout",
     "output_type": "stream",
     "text": [
      "Зашифрованный текст:\n",
      " b'\\x9e\\xd4e\\xd4\\x19\\x9a\\x04Z\\xda\\x1b\\x16\\x88\\x05\\xa7\\xdd\\x02\\xf8\\xd4\\xc6\\x19\\xf7\\xee\\xbfI\\x9e\\x90\\xf2wl\\x95c\\\\\\xae\\x0bCP#\\x9ce=\\x04\\xe0a\\xcf-\\xbc$\\x11\\xaa\\x14\\'\\xeaM}%c\\x022E\\xed+\\xb94\\x10\\x8a\\xa9\\xa0XE\\x1f\\xc69\\xb7\\x95*\\x01\\xea\\xfb1\\xdaU\\xff\\x7f\\xa4\\x06\\xa1-ZD\\x9f\\xf9\\t\\xcf\\xf9.\\xf1\\x98i\\xbc\\xa0\\x8f\\xd6K\\\\\\xff\\x7f`n\\xff\\xb8\\xf0\\xbd^\"\\x1b\\xa4\\x90a\\x99\\xaa\\xe8r\\x02\\x1d\\x1b\\xc0\\xacQ&9\\xbb\\x0e\\xc7\\xb8\\x1b\\xd7\\x00\\xf2\\x9e1\\xbbAIu\\x876A\\xf2j\\xfd%r\\x1a\\xd5\\xdc\\xf7\\xc45XL\\xa4\\xc2\\xa63\\xff0\\x89\\xb3\\xc5Y\\xf6\\x9b\\x8eOn9}\\x95\\x9a\\xa2?\\x07$&\\xca\\xb1\\xff\\xd9X\\x8c\\xcd\\x1ba\\x9b\\x94\\xbc\\xd2\\xae\\xfb\\xa3_\\x1f/\\xfa\\xf6\\x00\\xe3\\x13;\\xb48\\xe9\\xf1\\xe6\\xf4\\xdd\\xc5\\xea\\x14\\x8f\\xfc(\\x1a<\\xf9\\xaeF.c\\xa6\\x1c\\xe4\\x0c\\x94\\xb3\\x90u\\xf7\\xd3<\\xa2)\\x99\\xfc\\x9e\\xc6\"\\x97\\xd5\\xb6c\\xe5\\x95*Q_\\x1d\\x808\\xc5J:(dY\\x11\\x91?w\\xe6\\x19\\x7f\\x11\\xb1\\xd2\\xebR\\xae\\xa3\\x17C\\xce\\x06\\xcd\\xf1PI<\\x9fi\\x1f\\xcc\\xc5z\\xd1w\\xa6\\x94\\x17\\xd5R[C<\\xd2\\xf3Wja\\xde\\r\\x06\\xef\\xa8\\xf4#\\xe1\\x98,\\x9fQ&@?\\xc9%\\xf4\\xe5P\\x89\\xcf\\x0e\\xf7V\\xcc(R_\\\\\\x88E\\xed\\x07\\x84\\x90Z\\x86\\xba\\\\x@\\xcb\\xa6\\xd0E\\xc4\\xd2\\x9316\\x06\\x08\\x15\\xd5/\\xba1B\\x9d\\xf2\\x96\\xff@\\xc7\\t\\xae\\r\\xd5\\xd8#P8\\x08\\xb1\\x81\\xb1\\xf7\\xeef\\xed\\xc6@mb^>\\xd8j\\xba>8*{\\xe2\\xe2\\x99\\xec\\xaa\\x85\\xa8)\\x9c\\x9ca\\xc0te\\xab\\x17\\x0fj\\xa5\\x04\\x88I\\x14\\xcf*\\xb8f\\xd7\\x8a\\x1dS\\xbf\\xc8>\\x9b\\xd3\\x1b\\xfd.\\x85%\\x9f\\x0fQ\\\\,\\x87\\x10\\x82\\xea\\x0f\\x11\\xdf\\x10-\\x16\\xb6f\\x1ar-@\\xc9+\\x96)s\\x91\\xdb\\xfci\\x8c\\xc6\\xa1\\x83G@\\xbf\\xe9\\xd9\\x18x`ja\\xbc\\xa0d!\\x9a}\\xf5\\xf9\\xc4$%H\\xe1b\\xc3\\xcd\\xcf\\x04\\xc0\\'/\\xe4\\xf7\\xaf\\xd4]\\xafL\\xb5\\x1d\\x83\\xff\\x05?\\xc9\\xc4\\xf5\\xbb\\xae&\\xafY\\x1bXEx^q\\x9c|\\'\\xbf\\xd9bG\\xc4\\x94\\x07\\x97\\xdda\\x98\\xb3\\x06\\xd4\\xcfyd3\\x19t\\xa7!\\x89@\\xf4\\xd9k\\xd8\\xd2\\x18Q\\xc0\\xe4\\x11\\x98\\xa5\\xd5\\xea\\xc5\\x82\\xa7\\xee \\xc2\\xb9K\\xbd\\xb6g\\\\m_o\\xeb\\x18\\xb4k7\\x95\\xb1\\x8d\\xd4\"\\xb0\\x84\\xa5\\x92\\nl\\xc8&\\xd8\\xa72\\xf2\\xe4V\\x9b4y\\xdd\\x93e\\xf5\\x1e\\xff\\x86@\\xd5\\x0c\\xac_\\xd6\\xf7.fC(\\x18\\x8aO}\\xcf\\x0f\\x03\\xda\\x1f/3x\\x81\\x92\\n\\xf8m\\x9a\\xb6\\xb6\\xd4\\xd9\\xe0G\\xb1\\xf3\\xed\\x87\\xd5\\xab\\x99\\xb8\\xe4Wn\\xbe\\xacON\\x02\\xf3\\x03\\x9e\\xf7^\\xe6\\xe1$ \\xd5\\x94\\xbd\\x9c\\xad|\\x0b\\xf4\\x18\\xc5\\x94\\x9b\\x00\\xe2U\\xc0\\xd2\\x17\\xfe\\x15\\xde\\x04x\\x80\\x01\\xc0\\xd5\\x80\\xdd\\tj\\xc5\\x02\\x18~\\x83\\x13\\x10KN\\x01\\xda\\xf7Vs\\xdf9\\x8d\\x16m\\xde\\x05\\xb9\\xd2:(\\x15\\xd0\\x06\\xbcY\\xc0\\xc8\\x8b\\xa7\\x8d<D\\x82M61\\xe5J\\xb9\\x08\\x00\\xff1\\xed\\xe6\\x08A\\xc9\\xd3I\\x0c|+\\x11Wy;\\xc7Uq\\xcb\\x1d\\x14b\\xebtO$|\\x9bD\\xe6\\xcaO\\xfae\\xe1\\x13\\xbb\\x95\\x0e\\x13\\xb64_-\\x17\\xb9\\xec\\xa3T\"\\x98\\x9d\\x82\\xeb\\xfe@o\\n\\xcc\\x8bX\\x1en\\xa8Z[L\\x97@\\x00\\xa1op\\xac\\xd9\\xd6\\xf4x\\x9a\\x815\\x05E\\xac\\xe2\\xdc\\xa4m\\xb2S\\x12\\xb1\\xe0=Y8P\\xa7l;\\xda\\xe1w\\xd7?L\\xcc\\xf8P\\x15o9[\\x9b\\xfe.\\x03 a\\xe6\\xafb\\x07?-\\x87\\x82.+\\x81\\x89\\x10p\\x9c\\x85\\xd3\\xab\\rk\\xec\\x16\\xab\\x8a\\\\is\\x8c\\xc1\\xfaB[Od#\\xe7x\\xc5\\xb8|\\x0c\\xc2E\\xefLT\\xa9\\xf7t\\xfe\\xd9~\\x8bEQR\\xde\\xe3\"\\x02\\x93T\\xe7a\\x0e\\x8a\\xff\\x154cW\\x8c\\xb6o\\x0e7\\x9f^\\xc7 c\\x96\\xcb\\xb4\\xfa\\x16\\xab\\x8f\\xf7\\xb7\\xa7\\xec\\xe2T\\xceG\\xe8!k\\xe8\\x9e\\xf5\\xb8%GQ4\\x179/\"\\xbf\\xce:\\'\\xf9\\xf1U.+9=x\\xe4\\xe4`\\x0b\\x9aOS-R,\\xbbD\\x9bp\\xea\\n:~\\xbb\\x06\\xcd\\x0bz0\\x93\\xd7\\xbf\\xd3\\x8cmg\\xc3\\x84\\x86\\x0c\\x7f@/\\x91\\xb7\\xd9b\\t\\xbc\\xfc]\\x80\\x18\\xa5\\x93\\xcd\\x1f(\\xb8/IY\\xea\\xc8\\xb8\\xdf\\x99\\xd1\\x8d\\x9b\\xc9\\xde\\xbe\\xdfo\\x12\\xd0uG\\x8af\\xc5z6\\xbb\\x1e\\x02Z\\x13}(\\xf3<\\xf4\\xf6\\xd0\\xbe\\xf8\\xcbVA:\\xb2\\x80\\x95\\x8cd\\xbf\\xd4s\\tHO\\xb7\\x87a\\x89\\x8e\\x9d\\xeb\\xdauQq\\rY\\x0e\\xb7a\\xa1_B\\xbf\\xf9E\\xd4\\xc0\\xc4\\xff\\xe9\\x06k?\\xea\\x11\\x97\\x8c\\x91\\xb5H9S\\xe2v${\\xc8(j\\x9b\\x06V\\xd8\\x9b\\xfa\\xdb<\\'\\xa6\\x08\\x96\\x02\\tC\\xab\\x01{0\\xba\\xf8\\x88\\xc7\\x96\\xd8t\\xf4<\\xbe\\xae\\xe0\\xc1\\xfa@\\xbbU\\xbd\\x86\\xd7 \\xbct\\x92\\r\\x8b\\xeb\\xfc\\xce2\\x82m6\\xde\\x81\\xf5\\xcc\\x14\\x96\\x10I\\x04\\xb7\\xad$\\xfd\\xa2\\xfc\\xb5Y9\\xc8\\xc7=o\\xfcL\\x11\\x9a\\xba5A\\x19\\xce\\x1b\\xfe\\xe2\\xc6AO\\xadrt\\x99\\xd7gN\\xec\\xd3\\xec\\x95\\x8bZ:\\x17\\xc44\\xed\\xe1\\xcf\\xe5(c\\xc4\\xab\\x1ds\\xc1?\\xe9z*\\x03\\xa7\\xf9\\x91\\x1b\\xf4\\xa7\\xa2\\xba\\xf6?b(s\\xb7\\x95 \\xe4\\x1ff\\xd6We\\x8c2\\xc1\\x14\\x80\\xc2*|j\\x96+\\xba\\x1c\\x9e\\x88\\x155\\xb6\\xd7\\xa1\\xf2\\xdd\\x94\\x82\\xb1\\x06\\xef\\xfe\\x93kn\\xd8$\\xa2@G\\xb9m\\xb1d\\xb0cL\\xa4\\x1e\\x00b\\x12\\xeb9\\x07O\\x8f\\x17\\x83ui`\\xe3\\xe7\\xdd-\\xf3\\xff\\xb8c\\xae\\xd77Z\\xa3l'\n",
      "\n",
      "Засшифрованный ассимметричный ключ: <cryptography.hazmat.backends.openssl.rsa._RSAPrivateKey object at 0x000001F3BFD31CA0>\n",
      "Ключ симметричного шифрования: b'\\x1c\\x0f\\x84\\x8b\\x92\\xf5W\\x8d\\x91\\xdb\\'\\x1a\\xbe\\xa5\\xacq%\\xa4\\x00\\x9fQ\\xc0\\xed\\xf2z* H\\xfb\\xde\\x00\\xdd\\xbdwA*%\\x08\\xb7l\\xf63\\xc3\\xc0\\xe4H\\xa1\\xaa\\x8a\\x99\\x02\\x8a\"vU\\xba\\xbe/\\xa7~0z\\x8f\\xc1[\\x8a\\xe8\\xad\\x029\\xc2\\xfa\\xb1\\xfce\\xac\\xa8A\\xde$\\x9c\\xa8l\\xe2r\\xac}\\x97\\x1da\\xae\\xe8\\xcc\\xdc7\\xf4)\\xe2\\xd4\\x95\\x9fn\\xac\\xf0y\\xd9\\xda\\xe8\\x12\\xcc^S\\xe8\\xec\\x15\\xde\\xf4\\x98K2;\\x8d\\xd9I\\xa2\\xd08V\\xc0\\xcex=\\xbc\\x9e#\\x0eS\\x1d#0\\x1e]\\xca\\xc2\\x04\\xe2j\\xeb\\xe8k;\\xd1\\xe9L\\x0e\\x7f\\xd8\\xde\\xf2\\x87\\r\\xdbGg\\x0f\\x95{\\xb5\\xc1^\\xce-\\xbc\\xce\\x9b\\x12ra\\x19\\x15\\xda\\xeb\\xa8\\xc1$\\x057\\xf65\\xa2,apV\\xe0yD--c\\x8c\\xb9\\x16\\x91\\xbf?$6\\xc1\\xbf\\xf8#\\xf7^\\xf5d\\x17\\xdd\\x93\\xf5\\xd5\\xb0\\xed\\xc7R\\x0cL\\xd4\\xbbc)C%A\\xa7\\x11\\x9b\\xc3?\\x02\\x85\\xa1\\xe0\\xe0\\xd2\\x00\\xc0\\xaa\\x1a\\xc3n\\xca\\xb3.g\\xbb'\n",
      "\n",
      "Расшифрованный люч симметричного шифрования: b'\\xe7\\x12\\xa6\\xc6\\xab1'\n"
     ]
    },
    {
     "name": "stderr",
     "output_type": "stream",
     "text": [
      "C:\\Users\\Marishka\\AppData\\Local\\Temp\\ipykernel_14892\\440339411.py:8: CryptographyDeprecationWarning: CAST5 has been deprecated\n",
      "  cipher = Cipher(algorithms.CAST5(dec_sym_key), modes.CBC(iv))\n"
     ]
    },
    {
     "ename": "UnicodeDecodeError",
     "evalue": "'utf-8' codec can't decode byte 0xf5 in position 2: invalid start byte",
     "output_type": "error",
     "traceback": [
      "\u001b[1;31m---------------------------------------------------------------------------\u001b[0m",
      "\u001b[1;31mUnicodeDecodeError\u001b[0m                        Traceback (most recent call last)",
      "\u001b[1;32m~\\AppData\\Local\\Temp\\ipykernel_14892\\1468111127.py\u001b[0m in \u001b[0;36m<module>\u001b[1;34m\u001b[0m\n\u001b[1;32m----> 1\u001b[1;33m \u001b[0mtext_decryption\u001b[0m\u001b[1;33m(\u001b[0m\u001b[0mfile_settings\u001b[0m\u001b[1;33m)\u001b[0m\u001b[1;33m\u001b[0m\u001b[1;33m\u001b[0m\u001b[0m\n\u001b[0m",
      "\u001b[1;32m~\\AppData\\Local\\Temp\\ipykernel_14892\\440339411.py\u001b[0m in \u001b[0;36mtext_decryption\u001b[1;34m(file_settings)\u001b[0m\n\u001b[0;32m     14\u001b[0m     \u001b[0munpadded_dc_text\u001b[0m \u001b[1;33m=\u001b[0m \u001b[0munpadder\u001b[0m\u001b[1;33m.\u001b[0m\u001b[0mupdate\u001b[0m\u001b[1;33m(\u001b[0m\u001b[0mdc_text\u001b[0m\u001b[1;33m)\u001b[0m \u001b[1;33m+\u001b[0m \u001b[0munpadder\u001b[0m\u001b[1;33m.\u001b[0m\u001b[0mfinalize\u001b[0m\u001b[1;33m(\u001b[0m\u001b[1;33m)\u001b[0m\u001b[1;33m\u001b[0m\u001b[1;33m\u001b[0m\u001b[0m\n\u001b[0;32m     15\u001b[0m \u001b[1;33m\u001b[0m\u001b[0m\n\u001b[1;32m---> 16\u001b[1;33m     \u001b[0mprint\u001b[0m\u001b[1;33m(\u001b[0m\u001b[0mdc_text\u001b[0m\u001b[1;33m.\u001b[0m\u001b[0mdecode\u001b[0m\u001b[1;33m(\u001b[0m\u001b[1;33m)\u001b[0m\u001b[1;33m)\u001b[0m\u001b[1;33m\u001b[0m\u001b[1;33m\u001b[0m\u001b[0m\n\u001b[0m\u001b[0;32m     17\u001b[0m     \u001b[0mprint\u001b[0m\u001b[1;33m(\u001b[0m\u001b[0munpadded_dc_text\u001b[0m\u001b[1;33m.\u001b[0m\u001b[0mdecode\u001b[0m\u001b[1;33m(\u001b[0m\u001b[1;33m)\u001b[0m\u001b[1;33m)\u001b[0m\u001b[1;33m\u001b[0m\u001b[1;33m\u001b[0m\u001b[0m\n",
      "\u001b[1;31mUnicodeDecodeError\u001b[0m: 'utf-8' codec can't decode byte 0xf5 in position 2: invalid start byte"
     ]
    }
   ],
   "source": [
    "text_decryption(file_settings)"
   ]
  }
 ],
 "metadata": {
  "kernelspec": {
   "display_name": "base",
   "language": "python",
   "name": "python3"
  },
  "language_info": {
   "codemirror_mode": {
    "name": "ipython",
    "version": 3
   },
   "file_extension": ".py",
   "mimetype": "text/x-python",
   "name": "python",
   "nbconvert_exporter": "python",
   "pygments_lexer": "ipython3",
   "version": "3.9.13 (main, Aug 25 2022, 23:51:50) [MSC v.1916 64 bit (AMD64)]"
  },
  "orig_nbformat": 4,
  "vscode": {
   "interpreter": {
    "hash": "960e651994a923c8580311382dd3517ae83689739d490e324b89482666af2124"
   }
  }
 },
 "nbformat": 4,
 "nbformat_minor": 2
}
