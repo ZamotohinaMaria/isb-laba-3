{
 "cells": [
  {
   "cell_type": "code",
   "execution_count": 145,
   "metadata": {},
   "outputs": [],
   "source": [
    "import argparse\n",
    "from cryptography.hazmat.primitives.asymmetric import rsa\n",
    "from cryptography.hazmat.primitives import serialization\n",
    "from cryptography.hazmat.primitives import hashes\n",
    "from cryptography.hazmat.primitives.serialization import load_pem_public_key, load_pem_private_key\n",
    "import os\n",
    "import random"
   ]
  },
  {
   "attachments": {},
   "cell_type": "markdown",
   "metadata": {},
   "source": [
    "### 1. Генерация ключей гибридной системы"
   ]
  },
  {
   "cell_type": "code",
   "execution_count": 146,
   "metadata": {},
   "outputs": [],
   "source": [
    "way = os.path.abspath('')\n",
    "file_settings= {\n",
    "    'initial_file': way + '\\\\' + 'initial_file.txt',\n",
    "    'encrypted_file': way + '\\\\' + 'encrypted_file.txt',\n",
    "    'decrypted_file': way + '\\\\' + 'decrypted_file.txt',\n",
    "    'symmetric_key': way + '\\\\' + 'symmetric_key.txt',\n",
    "    'public_key': way + '\\\\' + 'public_key.pem',\n",
    "    'private_key': way + '\\\\' + 'private_key.pem',\n",
    "}\n",
    "\n",
    "keys = [i for i in range(40, 129, 8)]\n"
   ]
  },
  {
   "attachments": {},
   "cell_type": "markdown",
   "metadata": {},
   "source": [
    "генерация ключа для симметричного алгоритма"
   ]
  },
  {
   "cell_type": "code",
   "execution_count": 149,
   "metadata": {},
   "outputs": [],
   "source": [
    "from cryptography.hazmat.primitives.asymmetric import padding\n",
    "def gen_keys(file_settings: dict, keys: list):\n",
    "    len_key = random.randint(0, len(keys) - 1)\n",
    "    key = os.urandom(keys[len_key])\n",
    "    print('Ключ симметричного шифрования:')\n",
    "    print(type(key))\n",
    "    print(key)\n",
    "    \n",
    "    assym_keys = rsa.generate_private_key(\n",
    "        public_exponent=65537,\n",
    "        key_size=2048\n",
    "    )\n",
    "    private_key = assym_keys\n",
    "    public_key = assym_keys.public_key()\n",
    "    \n",
    "    print('\\nЗакрытый ключ ассимметричного шифрования:')\n",
    "    print(type(private_key))\n",
    "    print(private_key)\n",
    "    print('\\nОтрытый ключ ассимметричного шифрования:')\n",
    "    print(type(public_key))\n",
    "    print(public_key)\n",
    "    \n",
    "    c_key = public_key.encrypt(key, padding.OAEP(mgf=padding.MGF1(algorithm=hashes.SHA256()),algorithm=hashes.SHA256(),label=None))\n",
    "    print('\\nЗашифрованный ключ симметричного шифрования')\n",
    "    print(c_key)\n",
    "    \n",
    "    with open(file_settings['public_key'], 'wb') as public_out:\n",
    "            public_out.write(public_key.public_bytes(encoding=serialization.Encoding.PEM,\n",
    "            format=serialization.PublicFormat.SubjectPublicKeyInfo))\n",
    "\n",
    "    with open(file_settings['private_key'], 'wb') as private_out:\n",
    "            private_out.write(private_key.private_bytes(encoding=serialization.Encoding.PEM,\n",
    "            format=serialization.PrivateFormat.TraditionalOpenSSL,\n",
    "            encryption_algorithm=serialization.NoEncryption()))\n",
    "            \n",
    "    c_key = public_key.encrypt(key, padding.OAEP(mgf=padding.MGF1(algorithm=hashes.SHA256()),algorithm=hashes.SHA256(),label=None))\n",
    "    with open(file_settings['symmetric_key'], 'wb') as key_file:\n",
    "        key_file.write(c_key)"
   ]
  },
  {
   "attachments": {},
   "cell_type": "markdown",
   "metadata": {},
   "source": [
    "генерация пары ключей для acсимметричного алгоритма"
   ]
  },
  {
   "cell_type": "code",
   "execution_count": 150,
   "metadata": {},
   "outputs": [
    {
     "name": "stdout",
     "output_type": "stream",
     "text": [
      "Ключ симметричного шифрования:\n",
      "<class 'bytes'>\n",
      "b'\\xe9\"k\\x90D\\x0c?\\xd5\\xc1)\\xc9\\xe3\\xed\\xf2.5ub\\x95:\\xd2U\\xba\\x8e\\x1b\\xdf\\xce\\xc406\\xc0|\\x19\\xd7\\xd05o\\xa1\\xc8-NY\\x0f\\xaa\\x86\\x99\\xa8\\xf1#\\xe9\\xe6`\\xa1\\xff\\x89\\x86\\xcf\\xbb\\xe2\\xe0\\xca\\xec\\x17\\xe1\\x1e\\xda\\x10\"c\\xd6DO'\n",
      "\n",
      "Закрытый ключ ассимметричного шифрования:\n",
      "<class 'cryptography.hazmat.backends.openssl.rsa._RSAPrivateKey'>\n",
      "<cryptography.hazmat.backends.openssl.rsa._RSAPrivateKey object at 0x000002ACEBBB0D90>\n",
      "\n",
      "Отрытый ключ ассимметричного шифрования:\n",
      "<class 'cryptography.hazmat.backends.openssl.rsa._RSAPublicKey'>\n",
      "<cryptography.hazmat.backends.openssl.rsa._RSAPublicKey object at 0x000002ACEBED65E0>\n",
      "\n",
      "Зашифрованный ключ симметричного шифрования\n",
      "b'\\xd1\\xa9-Y\\xb0bO))f\\x8aX\\xe8\\xc4\\x9e\\xc0b\\x0f\\x0e\\xb9\\xb4<\\xe1O2\\xf1Tk%\\xd2\\n\\xe7\\x98P\\xb0\\x9f\\xbf\\x95fO\\x80\\xc0O\\xde(C\\xee\\xc4\\x15h\\x96aN\\xb6\\x82\\xa6\\x9d\\x12Um\\xfc/\\xefG\\x8c\\xbf\\x12t=\\x8dU\\xf7\\xff\\xa93\\xcc\\xde\\x1ba\\xbd\\x81\\xd6E\\xf6\\x17\\xaei\\xb2\\x98\\xd8\\x03\\xd5e\\x9c\\x84\\xf1\\xde=\\xf0\\xd0\\x9ftx\\xa2\\x95\\x01+-J\\x8fZ\\xdfx\\xc9\\x99\\xc8\\rX\\xcf\\x05\\xe1\\x821\\x18y\\x82\\xcbc#QJ\\xb1\\xc5\\xca \\xa7\\xf3\\\\r\\x12\\x89\\x98\\x93\\xc8e\\x1b\\xa4\\xa0\\xf9Ej\\xd4\\x06\\xea\\x0f\\x02X/\\xd9w9\\xffd\\xa2\\xb31\\x81\\x97\\xff\\x11$\\x9a\\xedc\\xe0\\xf6\\xac\\xb6\\xdc\\x055\\xda\\x18\\x99p\\x17\\x05\\xe9\\xf6\\x8f\\x86\\xf2q\\xeau\\xf5\\xff\\xb5\\x87/(\\x80.\\xe9\\xdfK~)L\\xd7\\x059\\x99V\\xd0GA\\xd7\\x88:\\xdd\\x10Z\\xac\\x97=\\xbe\\xbe\\x94\\xc7\\xc7\\xf7@\\xf0\\xbd6Y\\x99spH\\xaa\\x96\\x8a\\x98\\xc6\\x01y\\xa9\\x17w\\t\\xd5c\\x14b'\n"
     ]
    }
   ],
   "source": [
    "gen_keys(file_settings, keys)"
   ]
  },
  {
   "attachments": {},
   "cell_type": "markdown",
   "metadata": {},
   "source": [
    "### 2. Шифрование данных гибридной системой"
   ]
  },
  {
   "cell_type": "code",
   "execution_count": 155,
   "metadata": {},
   "outputs": [],
   "source": [
    "from cryptography.hazmat.primitives.asymmetric import padding\n",
    "def key_dec(key, private_key):\n",
    "    return private_key.decrypt(key,padding.OAEP(mgf=padding.MGF1(algorithm=hashes.SHA256()),algorithm=hashes.SHA256(),label=None))"
   ]
  },
  {
   "cell_type": "code",
   "execution_count": 156,
   "metadata": {},
   "outputs": [],
   "source": [
    "from cryptography.hazmat.primitives import padding\n",
    "def f_padder():\n",
    "    return padding.ANSIX923(32).padder()"
   ]
  },
  {
   "cell_type": "code",
   "execution_count": 157,
   "metadata": {},
   "outputs": [],
   "source": [
    "def text_encryption(file_settings: dict):\n",
    "    with open(file_settings['initial_file'], 'r', encoding = 'UTF-8') as file:\n",
    "        text = file.read()\n",
    "    print('Исходный текст: ')\n",
    "    #print(text)\n",
    "    \n",
    "    with open(file_settings['private_key'], 'rb') as file:\n",
    "        private_bytes = file.read()\n",
    "    d_private_key = load_pem_private_key(private_bytes,password=None,)\n",
    "    print('\\nРасшифрованный симметричный ключ:')\n",
    "    #print(type(d_private_key))\n",
    "    #print(d_private_key)\n",
    "    \n",
    "    with open(file_settings['symmetric_key'], 'rb') as file:\n",
    "        sym_key = file.read()\n",
    "    \n",
    "    print('Ключ симметричного шифрования:')\n",
    "    #print(type(sym_key))\n",
    "    #print(sym_key)\n",
    "    \n",
    "    dec_sym_key = key_dec(sym_key, d_private_key)\n",
    "    print('\\nРасшифрованный люч симметричного шифрования:')\n",
    "    #print(dec_sym_key)\n",
    "    \n",
    "    padder = f_padder()\n",
    "    padded_text = padder.update(text)+padder.finalize()\n",
    "\n",
    "    print(text)\n",
    "    print(padded_text)"
   ]
  },
  {
   "cell_type": "code",
   "execution_count": 158,
   "metadata": {},
   "outputs": [
    {
     "name": "stdout",
     "output_type": "stream",
     "text": [
      "Исходный текст: \n",
      "\n",
      "Расшифрованный симметричный ключ:\n",
      "Ключ симметричного шифрования:\n"
     ]
    },
    {
     "ename": "AttributeError",
     "evalue": "module 'cryptography.hazmat.primitives.padding' has no attribute 'OAEP'",
     "output_type": "error",
     "traceback": [
      "\u001b[1;31m---------------------------------------------------------------------------\u001b[0m",
      "\u001b[1;31mAttributeError\u001b[0m                            Traceback (most recent call last)",
      "\u001b[1;32m~\\AppData\\Local\\Temp\\ipykernel_3904\\3273637327.py\u001b[0m in \u001b[0;36m<module>\u001b[1;34m\u001b[0m\n\u001b[1;32m----> 1\u001b[1;33m \u001b[0mtext_encryption\u001b[0m\u001b[1;33m(\u001b[0m\u001b[0mfile_settings\u001b[0m\u001b[1;33m)\u001b[0m\u001b[1;33m\u001b[0m\u001b[1;33m\u001b[0m\u001b[0m\n\u001b[0m",
      "\u001b[1;32m~\\AppData\\Local\\Temp\\ipykernel_3904\\3761796846.py\u001b[0m in \u001b[0;36mtext_encryption\u001b[1;34m(file_settings)\u001b[0m\n\u001b[0;32m     19\u001b[0m     \u001b[1;31m#print(sym_key)\u001b[0m\u001b[1;33m\u001b[0m\u001b[1;33m\u001b[0m\u001b[0m\n\u001b[0;32m     20\u001b[0m \u001b[1;33m\u001b[0m\u001b[0m\n\u001b[1;32m---> 21\u001b[1;33m     \u001b[0mdec_sym_key\u001b[0m \u001b[1;33m=\u001b[0m \u001b[0mkey_dec\u001b[0m\u001b[1;33m(\u001b[0m\u001b[0msym_key\u001b[0m\u001b[1;33m,\u001b[0m \u001b[0md_private_key\u001b[0m\u001b[1;33m)\u001b[0m\u001b[1;33m\u001b[0m\u001b[1;33m\u001b[0m\u001b[0m\n\u001b[0m\u001b[0;32m     22\u001b[0m     \u001b[0mprint\u001b[0m\u001b[1;33m(\u001b[0m\u001b[1;34m'\\nРасшифрованный люч симметричного шифрования:'\u001b[0m\u001b[1;33m)\u001b[0m\u001b[1;33m\u001b[0m\u001b[1;33m\u001b[0m\u001b[0m\n\u001b[0;32m     23\u001b[0m     \u001b[1;31m#print(dec_sym_key)\u001b[0m\u001b[1;33m\u001b[0m\u001b[1;33m\u001b[0m\u001b[0m\n",
      "\u001b[1;32m~\\AppData\\Local\\Temp\\ipykernel_3904\\3109987883.py\u001b[0m in \u001b[0;36mkey_dec\u001b[1;34m(key, private_key)\u001b[0m\n\u001b[0;32m      1\u001b[0m \u001b[1;32mfrom\u001b[0m \u001b[0mcryptography\u001b[0m\u001b[1;33m.\u001b[0m\u001b[0mhazmat\u001b[0m\u001b[1;33m.\u001b[0m\u001b[0mprimitives\u001b[0m\u001b[1;33m.\u001b[0m\u001b[0masymmetric\u001b[0m \u001b[1;32mimport\u001b[0m \u001b[0mpadding\u001b[0m\u001b[1;33m\u001b[0m\u001b[1;33m\u001b[0m\u001b[0m\n\u001b[0;32m      2\u001b[0m \u001b[1;32mdef\u001b[0m \u001b[0mkey_dec\u001b[0m\u001b[1;33m(\u001b[0m\u001b[0mkey\u001b[0m\u001b[1;33m,\u001b[0m \u001b[0mprivate_key\u001b[0m\u001b[1;33m)\u001b[0m\u001b[1;33m:\u001b[0m\u001b[1;33m\u001b[0m\u001b[1;33m\u001b[0m\u001b[0m\n\u001b[1;32m----> 3\u001b[1;33m     \u001b[1;32mreturn\u001b[0m \u001b[0mprivate_key\u001b[0m\u001b[1;33m.\u001b[0m\u001b[0mdecrypt\u001b[0m\u001b[1;33m(\u001b[0m\u001b[0mkey\u001b[0m\u001b[1;33m,\u001b[0m\u001b[0mpadding\u001b[0m\u001b[1;33m.\u001b[0m\u001b[0mOAEP\u001b[0m\u001b[1;33m(\u001b[0m\u001b[0mmgf\u001b[0m\u001b[1;33m=\u001b[0m\u001b[0mpadding\u001b[0m\u001b[1;33m.\u001b[0m\u001b[0mMGF1\u001b[0m\u001b[1;33m(\u001b[0m\u001b[0malgorithm\u001b[0m\u001b[1;33m=\u001b[0m\u001b[0mhashes\u001b[0m\u001b[1;33m.\u001b[0m\u001b[0mSHA256\u001b[0m\u001b[1;33m(\u001b[0m\u001b[1;33m)\u001b[0m\u001b[1;33m)\u001b[0m\u001b[1;33m,\u001b[0m\u001b[0malgorithm\u001b[0m\u001b[1;33m=\u001b[0m\u001b[0mhashes\u001b[0m\u001b[1;33m.\u001b[0m\u001b[0mSHA256\u001b[0m\u001b[1;33m(\u001b[0m\u001b[1;33m)\u001b[0m\u001b[1;33m,\u001b[0m\u001b[0mlabel\u001b[0m\u001b[1;33m=\u001b[0m\u001b[1;32mNone\u001b[0m\u001b[1;33m)\u001b[0m\u001b[1;33m)\u001b[0m\u001b[1;33m\u001b[0m\u001b[1;33m\u001b[0m\u001b[0m\n\u001b[0m",
      "\u001b[1;31mAttributeError\u001b[0m: module 'cryptography.hazmat.primitives.padding' has no attribute 'OAEP'"
     ]
    }
   ],
   "source": [
    "text_encryption(file_settings)"
   ]
  }
 ],
 "metadata": {
  "kernelspec": {
   "display_name": "base",
   "language": "python",
   "name": "python3"
  },
  "language_info": {
   "codemirror_mode": {
    "name": "ipython",
    "version": 3
   },
   "file_extension": ".py",
   "mimetype": "text/x-python",
   "name": "python",
   "nbconvert_exporter": "python",
   "pygments_lexer": "ipython3",
   "version": "3.9.13"
  },
  "orig_nbformat": 4,
  "vscode": {
   "interpreter": {
    "hash": "960e651994a923c8580311382dd3517ae83689739d490e324b89482666af2124"
   }
  }
 },
 "nbformat": 4,
 "nbformat_minor": 2
}
