{
 "cells": [
  {
   "cell_type": "code",
   "execution_count": 1,
   "metadata": {},
   "outputs": [],
   "source": [
    "import argparse\n",
    "from cryptography.hazmat.primitives.asymmetric import rsa\n",
    "from cryptography.hazmat.primitives import serialization\n",
    "from cryptography.hazmat.primitives import hashes\n",
    "from cryptography.hazmat.primitives.asymmetric import padding as as_padding\n",
    "from cryptography.hazmat.primitives import padding as sym_padding\n",
    "from cryptography.hazmat.primitives.ciphers import Cipher, algorithms, modes\n",
    "from cryptography.hazmat.primitives.serialization import load_pem_private_key\n",
    "import os\n",
    "import random"
   ]
  },
  {
   "attachments": {},
   "cell_type": "markdown",
   "metadata": {},
   "source": [
    "### 1. Генерация ключей гибридной системы"
   ]
  },
  {
   "cell_type": "code",
   "execution_count": 4,
   "metadata": {},
   "outputs": [],
   "source": [
    "way = os.path.abspath('')\n",
    "file_settings= {\n",
    "    'initial_file': way + '\\\\' + 'initial_file.txt',\n",
    "    'encrypted_file': way + '\\\\' + 'encrypted_file.txt',\n",
    "    'decrypted_file': way + '\\\\' + 'decrypted_file.txt',\n",
    "    'symmetric_key': way + '\\\\' + 'symmetric_key.txt',\n",
    "    'public_key': way + '\\\\' + 'public_key.pem',\n",
    "    'private_key': way + '\\\\' + 'private_key.pem',\n",
    "}\n",
    "\n",
    "keys = [i for i in range(5, 17, 1)]\n",
    "iv = os.urandom(8)\n"
   ]
  },
  {
   "attachments": {},
   "cell_type": "markdown",
   "metadata": {},
   "source": [
    "генерация ключа для симметричного алгоритма"
   ]
  },
  {
   "cell_type": "code",
   "execution_count": 5,
   "metadata": {},
   "outputs": [],
   "source": [
    "def gen_keys(file_settings: dict, keys: list):\n",
    "    len_key = random.randint(0, len(keys) - 1)\n",
    "    key = os.urandom(keys[len_key])\n",
    "    print('Ключ симметричного шифрования:')\n",
    "    print(type(key))\n",
    "    print(key)\n",
    "    \n",
    "    assym_keys = rsa.generate_private_key(\n",
    "        public_exponent=65537,\n",
    "        key_size=2048\n",
    "    )\n",
    "    private_key = assym_keys\n",
    "    public_key = assym_keys.public_key()\n",
    "    \n",
    "    print('\\nЗакрытый ключ ассимметричного шифрования:')\n",
    "    print(type(private_key))\n",
    "    print(private_key)\n",
    "    print('\\nОтрытый ключ ассимметричного шифрования:')\n",
    "    print(type(public_key))\n",
    "    print(public_key)\n",
    "    \n",
    "    c_key = public_key.encrypt(key, as_padding.OAEP(mgf=as_padding.MGF1(algorithm=hashes.SHA256()),algorithm=hashes.SHA256(),label=None))\n",
    "    print('\\nЗашифрованный ключ симметричного шифрования')\n",
    "    print(c_key)\n",
    "    \n",
    "    with open(file_settings['public_key'], 'wb') as public_out:\n",
    "            public_out.write(public_key.public_bytes(encoding=serialization.Encoding.PEM,\n",
    "            format=serialization.PublicFormat.SubjectPublicKeyInfo))\n",
    "\n",
    "    with open(file_settings['private_key'], 'wb') as private_out:\n",
    "            private_out.write(private_key.private_bytes(encoding=serialization.Encoding.PEM,\n",
    "            format=serialization.PrivateFormat.TraditionalOpenSSL,\n",
    "            encryption_algorithm=serialization.NoEncryption()))\n",
    "            \n",
    "    with open(file_settings['symmetric_key'], 'wb') as key_file:\n",
    "        key_file.write(c_key)"
   ]
  },
  {
   "attachments": {},
   "cell_type": "markdown",
   "metadata": {},
   "source": [
    "генерация пары ключей для acсимметричного алгоритма"
   ]
  },
  {
   "cell_type": "code",
   "execution_count": 6,
   "metadata": {},
   "outputs": [
    {
     "name": "stdout",
     "output_type": "stream",
     "text": [
      "Ключ симметричного шифрования:\n",
      "<class 'bytes'>\n",
      "b'/\\x9c\\x05\\xd4:/\\xcb\\xf6\\x89\\x90F'\n",
      "\n",
      "Закрытый ключ ассимметричного шифрования:\n",
      "<class 'cryptography.hazmat.backends.openssl.rsa._RSAPrivateKey'>\n",
      "<cryptography.hazmat.backends.openssl.rsa._RSAPrivateKey object at 0x000001A5C8E4E6A0>\n",
      "\n",
      "Отрытый ключ ассимметричного шифрования:\n",
      "<class 'cryptography.hazmat.backends.openssl.rsa._RSAPublicKey'>\n",
      "<cryptography.hazmat.backends.openssl.rsa._RSAPublicKey object at 0x000001A5C8E32670>\n",
      "\n",
      "Зашифрованный ключ симметричного шифрования\n",
      "b'\\rS\\r\\x1f\\xc3y\\xed\\xa8\\xc7\\xb2\\x9f\\xc66\\xe98\\xb9\\xedw\\x9b\\x0e\\x9c\\xf4EO\\x83\\xea\\xad\\xc0\\xef\\xf0*\\x1e\\x89%d \\xce\\xf8\\xf5,m\\xf2\\xd6\\xa5\\xe2\\x1f\\xd6\\x92@\\x8a-\\xa3lr\\xc3\\'\\xd6\\x0c\\xfa{\\x1f\\xe02\\x811(\\x11\\xcc\\xdfSs\\xff\\xa9z@\\x95\\x85\\x84\\x02/\\x10lL\\xdc\\xbb\\xb1\\xae\\x97\\xba\\xf3\\x10\\x8f\\x84\\xb0\\n\\xc3J\\xa5\\xff\\x00\\x0e}\\xb0^\\xc6\\x9f9\\xebc\\xe3\\xa5\\x83\\x86L\\xd8\\x1f\\xf5\\xd4\\x89\\xd9 \\xa5\\x91\\x94\\xd8uH/\\x13\\x90\\x076\\xb7\\xac/\\xa5}L\\xfaY\\x14PC\\xb7\\x8c\\xad\\r\\xda\\xc5\\x15U\\xa8\\\\\\\\\\xb8\\xacK\\xeb\\x93l\\xfc(\\xcf\\x91\\x06\\xea\\xb0\\xcc\\xc7\\xacxfU\\xd4$p**Sg\\x03\\xe3\\xee\\x81t\\xcb\\xe8K`\\xd4\\xef\\x12\"\\xdd\\x99}\\x8bQ\\x80d\\xe66D\\x14\\xb1#\\xe2\\x8d\\xafxi\\xbbK1\\x95\\xf6\\xd0Y\\xad\\x93\\xfc\\xef\\xee\\xa6 \\xb3\\xd5\\xd65\\xb0\\xc4\\x00\\xc74\\xe6\\x1d\\xfc\\xfa\\xa7~i=\\\\\\r\\x97yM\\xe5%\\xd8B\\xb3\\x87F\\xe4\\xb8'\n"
     ]
    }
   ],
   "source": [
    "gen_keys(file_settings, keys)"
   ]
  },
  {
   "attachments": {},
   "cell_type": "markdown",
   "metadata": {},
   "source": [
    "### 2. Шифрование данных гибридной системой"
   ]
  },
  {
   "cell_type": "code",
   "execution_count": 7,
   "metadata": {},
   "outputs": [],
   "source": [
    "def sym_key_decryption(file_settings: dict):\n",
    "    with open(file_settings['private_key'], 'rb') as file:\n",
    "        private_bytes = file.read()\n",
    "    d_private_key = load_pem_private_key(private_bytes,password=None,)\n",
    "    print('\\nЗасшифрованный ассимметричный ключ:', d_private_key)\n",
    "\n",
    "    with open(file_settings['symmetric_key'], 'rb') as file:\n",
    "        sym_key = file.read()\n",
    "        \n",
    "    print('Ключ симметричного шифрования:', sym_key)\n",
    "  \n",
    "    dec_sym_key = d_private_key.decrypt(sym_key,as_padding.OAEP(mgf=as_padding.MGF1(algorithm=hashes.SHA256()),algorithm=hashes.SHA256(),label=None))\n",
    "    \n",
    "    print('\\nРасшифрованный люч симметричного шифрования:', dec_sym_key)\n",
    "    \n",
    "    return dec_sym_key\n",
    "    \n",
    "    "
   ]
  },
  {
   "cell_type": "code",
   "execution_count": 8,
   "metadata": {},
   "outputs": [],
   "source": [
    "def text_encryption(file_settings: dict):\n",
    "    with open(file_settings['initial_file'], 'r', encoding = 'UTF-8') as file:\n",
    "        text = file.read()\n",
    "    print('Исходный текст:\\n', text)\n",
    "    \n",
    "    dec_sym_key = sym_key_decryption(file_settings)\n",
    "    \n",
    "    padder = sym_padding.ANSIX923(32).padder()\n",
    "    padded_text = padder.update(bytes(text, 'UTF-8'))+padder.finalize()\n",
    "    \n",
    "    cipher = Cipher(algorithms.CAST5(dec_sym_key), modes.CBC(iv))\n",
    "    encryptor = cipher.encryptor()\n",
    "    enc_text = encryptor.update(padded_text) + encryptor.finalize()\n",
    "    \n",
    "    print('зашифрованный текст')\n",
    "    print(enc_text)\n",
    "    \n",
    "    with open(file_settings['encrypted_file'], 'wb') as file:\n",
    "        file.write(enc_text)"
   ]
  },
  {
   "cell_type": "code",
   "execution_count": 9,
   "metadata": {},
   "outputs": [
    {
     "name": "stdout",
     "output_type": "stream",
     "text": [
      "Исходный текст:\n",
      " КОНСТИТУЦИЯ РОССИЙСКОЙ ФЕДЕРАЦИИ Мы, многонациональный народ Российской Федерации, соединенные общей судьбой на своей земле, утверждая права и свободы человека, гражданский мир и согласие, сохраняя исторически сложившееся государственное единство, исходя из общепризнанных принципов равноправия и самоопределения народов, чтя память предков, передавших нам любовь и уважение к Отечеству, веру в добро и справедливость, возрождая суверенную государственность России и утверждая незыблемость ее демократической основы, стремясь обеспечить благополучие и процветание России, исходя из ответственности за свою Родину перед нынешним и будущими поколениями, сознавая себя частью мирового сообщества, принимаем КОНСТИТУЦИЮ РОССИЙСКОЙ ФЕДЕРАЦИИ.\n",
      "\n",
      "Засшифрованный ассимметричный ключ: <cryptography.hazmat.backends.openssl.rsa._RSAPrivateKey object at 0x000001A5C8E5ACA0>\n",
      "Ключ симметричного шифрования: b'\\rS\\r\\x1f\\xc3y\\xed\\xa8\\xc7\\xb2\\x9f\\xc66\\xe98\\xb9\\xedw\\x9b\\x0e\\x9c\\xf4EO\\x83\\xea\\xad\\xc0\\xef\\xf0*\\x1e\\x89%d \\xce\\xf8\\xf5,m\\xf2\\xd6\\xa5\\xe2\\x1f\\xd6\\x92@\\x8a-\\xa3lr\\xc3\\'\\xd6\\x0c\\xfa{\\x1f\\xe02\\x811(\\x11\\xcc\\xdfSs\\xff\\xa9z@\\x95\\x85\\x84\\x02/\\x10lL\\xdc\\xbb\\xb1\\xae\\x97\\xba\\xf3\\x10\\x8f\\x84\\xb0\\n\\xc3J\\xa5\\xff\\x00\\x0e}\\xb0^\\xc6\\x9f9\\xebc\\xe3\\xa5\\x83\\x86L\\xd8\\x1f\\xf5\\xd4\\x89\\xd9 \\xa5\\x91\\x94\\xd8uH/\\x13\\x90\\x076\\xb7\\xac/\\xa5}L\\xfaY\\x14PC\\xb7\\x8c\\xad\\r\\xda\\xc5\\x15U\\xa8\\\\\\\\\\xb8\\xacK\\xeb\\x93l\\xfc(\\xcf\\x91\\x06\\xea\\xb0\\xcc\\xc7\\xacxfU\\xd4$p**Sg\\x03\\xe3\\xee\\x81t\\xcb\\xe8K`\\xd4\\xef\\x12\"\\xdd\\x99}\\x8bQ\\x80d\\xe66D\\x14\\xb1#\\xe2\\x8d\\xafxi\\xbbK1\\x95\\xf6\\xd0Y\\xad\\x93\\xfc\\xef\\xee\\xa6 \\xb3\\xd5\\xd65\\xb0\\xc4\\x00\\xc74\\xe6\\x1d\\xfc\\xfa\\xa7~i=\\\\\\r\\x97yM\\xe5%\\xd8B\\xb3\\x87F\\xe4\\xb8'\n",
      "\n",
      "Расшифрованный люч симметричного шифрования: b'/\\x9c\\x05\\xd4:/\\xcb\\xf6\\x89\\x90F'\n",
      "зашифрованный текст\n",
      "b'\\x1f\\x13\\xf4\\xa3\\xc8N(i\\xd4\\xb1\\x13}u\\xe1\\xcc\\xeb\\x0c\\xaf\\x86B\\xa0\\x81x\\x93S\\x00\\xa3\\x89\\x94\\xca+\\xed\\xdc\\x06\\xb8?\\xc01\\x8f\\xac\\xd1\\xf7\\\\q}d\\x0e\\xc0\\xb2\\x06c\\x83\\xd8\\x7fE\\xf0h\\xe4N\\x00bJN\\x8f\\xe1#\\xbe[\\tE\\x91\\xc9g\\xb7\\xab\\x17\\x1b\\xef4\\xa98\\xf6\\xa6\\xa8S\\xb4\\xba\\x9d\\x8ett\\xa6n\"\\xa5\\x972\\xd3rF\\xd6\\xc5\\x80\\xae\\xb2c\\xcb\\xf0[l\\xd8;\\xfc\\xf3\\x1aGa$\\x04\\x10M\\x00,\\xe5h\\xc3UV\\x9a\\xfd\\x96\\xfc&;\\xd2\\xa2\"\\xbf$}l\\x97W\\xd5\\x82\\x1b |\\'\\xa7!\\x1b\\x1aC\\xab\\x7fS\\x0c\\x0f\\xe2\\x80i\\xa4k\\xd2\\x87^\\xb5\\xda\\x14h\\xeb&\\xa6;$]\\xd5\\xdav\\xc4\\xedi\\xa6f\\xe6\\xc8>4~lop\\x88c\"3\\x8a\\xf5\"\\xd0\\xbb\\x14\\x8aR\\x8ap@\\xaaC\\x90\\x14\\xa3\\xa6~\\xf2e\\x9b\\xe8\\x8fh\\xd8o\\x06\\xbe\\x166\\x889|Rw%E\\x82\\xaa\\xfb\\xf3\\x94+\\xc3\\x83\\xb2\\x06\\xb9\\xd7\\xe7\\x8a\\xcf\\x02\\x1a\\xa8\\x92\\x03bA\\x83\\x18\\xa5\\xfd\\x8a\\xbe\\xa0\\x9dI\\x9c\\xda~\\xf9k\\xf8\\x91\\xb5\\xf9\\xa2\\x9a\\xb2\\xfag\\xf9\\xac\\xb3r\\xa3\\x99\\xec\\xf6\\x0bb\\xdb\\x95\\x8a^\\xc8\\x85c*\\x88~\\xd7F^\\x86vO\\xd6\\xcf\\xed\\x1et\\xd1\\x17\\x8c\\x8b\\xbe?8\\x11\\xeb2\\xa5=\\x12\\x84C\\x7f\\x93+\\xb3\\xa9#S\\xc3\\xdc{\\xe4^\\xa4\\xa4\\x13XU\\x0f.\\x01\\x00d\\xa2\\xdfz\\xd7F\\x16\\xda5C?\\x97\\xc5V\\xd9r\\xb7\\xa5,>n).\\x7f}\\xb9ls\\x00Ww!_\\xfb\\x1e\\xe1rf\\rB\\x0b\\xdf\\x0b\\xd7-\\xda%\\xee\\x95\\xc9\\x8e\\x92i\\x17\\x9f\\x95\\xeegF\\xa2_/\\xd9\\xdcP\\xe4\\xd1\\t\\xe2\\xa8\\xac\\x8fT~\\xe9N\\xa3y\\x8b&*\\xdaX\\x97\\xd1\\xda\\x815 sN(\\xfb\\xd5\\x1f2\\x11sq\\x1dCL\\x080\\xa7\\xe0\\xe9\\x08\\xb1k\\xe5\\x8a<\\xb1\\xd9\\xa2.\\xc2o\\x8c\\xfag!\\xbd\\x05#\\x13\\x19\\x0c\\xff\\xc3NF\\xc4\\xaf\\x0e\\x03!Y\\xad\\xc9\\x86r\\x06\\x96\\xa0[\\xc5\\x9bI\\x7f\\xec,\\xe2\\x94V\\xcd\\xc4\\xadb~0\\x81\\xc0,jrSAu\\xf3t\\xf4\\x07\\n\\xde\\x1c\\xc5\\xeb\\xe7\\x97AN\\xcbc\\x83B\\xda\\x92\\xe2\\xa0b\\xe5rKK\\xb6\\\\\\xb17\\xd5I\\xfe\\xb9\\xbcM\\xc0a\\x9c<\"\\xf4\\x12%\\xa4\\x8d.L\\xcd\\x06\\xa2!\\xc8\\xc3i\\x1f4\\xd7(\\x11\\x00\\x0f=_@\\x03\\x84f\\xa8\\x01\\x06$\\xc0\\x0f\\x98E\\xb5\\x04\\xc1D@\\xda\\x18E\\xa0\\x0f=\\xe4\\xbf\\x8b\\xdcvj Dd\\xeb\\xa4\\x97\\x19n\\xeen}xK\\xa0\\x8a+\\xc4\\xae\\xf8\\xc2)\\xbe\\xf03S\\xdd\\x89\\xac\"\\x9f*\\x11\\xf1\\x884\\xd4\\xfbp\\xde\\x19!\\xe7\\xf1\\x91FyC\\xbc\\xf3Kh?\\x0b\\x80Ze\\xc3\\xe6\\x1f\\xdb\\xaa\\xfd\\xee-\\x05\\x91\\xa7\\x15\\xbc\\xc3\\xbc\\xe1t\\x15\\x05kU\\xfc\\x8e\\xc5\\x8c\"#+\\xa6\\xd4\"\\x14\\xa1\\x1e\\xed\\xd9|\\xd8\\x8e\\xab\\xa5\\xa8 \\xa4A\\t\\x8a\\xae\\r\\x8b\\xaa\\x06\\x98h0x\\xaa1\\x01q\\xa3\\x04\\x7f\\x10/\\x92=\\xc1.2\\x0cS\\xcd\\xe9/\\xb4\\xe1\\x82f\\x9d\\xd9\\xf8i\\xf8N(K9N\\x11~ej\\xa1\\xf3`_c\\x13\\xccko\\xc8\\'kc67[\\xaf\\x8fVL\\xb7\\x98\\xcf\\x0b$\\x1bD\\x99\\xbe=\\x0e\\x08\\xfd\\x92\\x17\\xed\\xfey,\\xd5\\xed\\xf4\\x89\\xa5\\xe1\\xa1A\\xfa91\\t\\xc1H\\x80\\xaaD6\\x8c\\x94\\x1e\\xac,Y\\x92\\x9d\\xda\\x19\\x89\\xe6\\x94\\n\\x01\\xee\\xba\\x87kR\\x87\\x9a\\x82zD\\x91\\t\\xe6i\\xadX\\xbe\\xaa\\x02W\\x98\\'\\x80\\xf3@\\xd0N\\xf2\\xd0^\\xfe\\x9f\\x97\\xcb\\xf1\\xc6{j\\xe9\\xf0\\x0f\\x1e\\xdd\\x14l\\xbdR\\xd5[\\xdf\\x83\\xed.\\x12-P\\xfbh]\\xdc\\xd3\\xc4M\\xfdrD\\xda>p\\x9a~\\xb0\\x1a\\xc1\\x83S\\xde\\xf8\\xf1\\x01j\\x1c\\xf0\\xcb\\xde\\xa6?H\\xa4\\xa8dV\\xe22\\xd9L*\\xb8c\\xb9\\x16\\x1d\\xb9\\xaa\\xe9er @\\xd6\\x04L\\xe1\\xc4B\\xbeg\\npqz#\\xc5u\\xe4>\\x89\\x9a1\\xbd\\x14\\xd4Am\\x9e| ;\\xae\\xc63 \\x12\\xdb|G;B\\xb5\\x99d\\xddrK\\xff\\xc9$:x\\xe4\\xae\\x187\\xfa\\x0c\\x0c#_\\x07J,\\x9e\\x1d\\x91Ma\\rj\\x81\\x91\\xf5\\xbcD\\'G\\xde\\x1a\\xf3\\x1fOH\\xbd\\x1a\\x0e\\x1a>\\xcc\\xb7l\\x14\\xb7\\xf1\\xf4\\xe4\\x1e\\x1b\\xba@hi3\\x17b\\x0c\\x85\\x99\\xc0wPq\\xef\\x98#\\xe5\"\\x0c,y\\xbe\\xbb\\xb3\\x11=?S\\xffRM\\xf9\\xd2\\xef\\x1de\\xce\\xac0\\xdb\\x96Y\\xa0\\x1e\\x83\\xdcN\\x10E\\xe1\\xc1v\\xe9\\x83\\xb5MhdE\\x99\\x1eb:\\x9c\\xf5s\\x89%^D\\x1b\\xfd+aSt\\x93\\x13\\x9f>\\x10\\r\\x0e\\xe2#\\xc1]\\x02\\xd7Y\\x0bT\\x1e\\x92\\xb1\\x850yQ\\xbe\\x97\\xd1p\\xc57HV@\\x19\\xd4o\\x1d\\'\\x9c\\x81\\x8f,S\\x14;\\xbe\\xe6\\xccg\\xd6\\xc0\\xe5\\xf5\\x1c\\xa2\\xa2\\x8dwA\\x88Q\\xf0\\xcc(n\\xec/(I\\x9f<w\\xb9\\xd1\\xdb\\xad\\xbc\\xedt\\xbe\\x13\\x83Y\\x9f\\x01\\xbf\\xe9\\x9d\\xd6B\\x19\\x0c\\x9b\\x9a\\x94\\x1b\\xdcg)\\x98\\x03\\xf6v$\\xfb\\x82\\x0cYfh \\xdd\\x07\\x99G\\xc6\\xa0jm\\xd0#(\\x8f`\\xe0h(\\x10(\\xc74\\x1cb\\xf9R\\x9f\\xf9R3\\xe1\\x1bf\\x99\\'\\xca\\x97_k\\x88\\x0f;}\\x1cK\\xaf\\xc9\\xbe/h\\xae\\x90\\xab\\x83\\x956\\xe8\\x90\\xacc\\xd2aU|U\\xb4\\x8ee\\x80\\xb9_\\xf3#\\x92\\'z\\x07\\xb2\\xec{\\x14!QO\\xf4\\xa5\\xfd\\x83\\xe1\\x8eOFKS~\\xdc\\xa4\\xd3w\\x01\\xf6Z6h\\xc06\\xa7\\xea\\xc8\\xae\\x9cf\\xa8\\x13\\xbc\\xae\\xf8H\\x13a\\xd8\\x1b;y\\xe5\" \\xf8V\\x01\\x7f\\xf9\\xf4q\\t\\xa3\\x84\\x06\\x93\\xfe\\xb3\\xbe\\x08q\\xd8\\xf5\\xed\\x89\\xf2\\xee\\x0ex\\x17:\\xcd'\n"
     ]
    },
    {
     "name": "stderr",
     "output_type": "stream",
     "text": [
      "C:\\Users\\Marishka\\AppData\\Local\\Temp\\ipykernel_3360\\3719966415.py:11: CryptographyDeprecationWarning: CAST5 has been deprecated\n",
      "  cipher = Cipher(algorithms.CAST5(dec_sym_key), modes.CBC(iv))\n"
     ]
    }
   ],
   "source": [
    "text_encryption(file_settings)"
   ]
  },
  {
   "attachments": {},
   "cell_type": "markdown",
   "metadata": {},
   "source": [
    "### 3. Дешифрование данных гибридной системой"
   ]
  },
  {
   "cell_type": "code",
   "execution_count": 12,
   "metadata": {},
   "outputs": [],
   "source": [
    "def text_decryption(file_settings: dict):\n",
    "    with open(file_settings['encrypted_file'], 'rb') as file:\n",
    "        enc_text = file.read()\n",
    "    #print('Зашифрованный текст:\\n', enc_text)\n",
    "    \n",
    "    dec_sym_key = sym_key_decryption(file_settings)\n",
    "    cipher = Cipher(algorithms.CAST5(dec_sym_key), modes.CBC(iv))\n",
    "    \n",
    "    decryptor = cipher.decryptor()\n",
    "    dc_text = decryptor.update(enc_text) + decryptor.finalize()\n",
    "\n",
    "    unpadder = sym_padding.ANSIX923(32).unpadder()\n",
    "    unpadded_dc_text = unpadder.update(dc_text) + unpadder.finalize()\n",
    "\n",
    "    print(dc_text.decode('UTF-8'))\n",
    "    print('----------------'*5)\n",
    "    print(unpadded_dc_text.decode('UTF-8'))"
   ]
  },
  {
   "cell_type": "code",
   "execution_count": 13,
   "metadata": {},
   "outputs": [
    {
     "name": "stdout",
     "output_type": "stream",
     "text": [
      "\n",
      "Засшифрованный ассимметричный ключ: <cryptography.hazmat.backends.openssl.rsa._RSAPrivateKey object at 0x000001A5C9D30F40>\n",
      "Ключ симметричного шифрования: b'\\rS\\r\\x1f\\xc3y\\xed\\xa8\\xc7\\xb2\\x9f\\xc66\\xe98\\xb9\\xedw\\x9b\\x0e\\x9c\\xf4EO\\x83\\xea\\xad\\xc0\\xef\\xf0*\\x1e\\x89%d \\xce\\xf8\\xf5,m\\xf2\\xd6\\xa5\\xe2\\x1f\\xd6\\x92@\\x8a-\\xa3lr\\xc3\\'\\xd6\\x0c\\xfa{\\x1f\\xe02\\x811(\\x11\\xcc\\xdfSs\\xff\\xa9z@\\x95\\x85\\x84\\x02/\\x10lL\\xdc\\xbb\\xb1\\xae\\x97\\xba\\xf3\\x10\\x8f\\x84\\xb0\\n\\xc3J\\xa5\\xff\\x00\\x0e}\\xb0^\\xc6\\x9f9\\xebc\\xe3\\xa5\\x83\\x86L\\xd8\\x1f\\xf5\\xd4\\x89\\xd9 \\xa5\\x91\\x94\\xd8uH/\\x13\\x90\\x076\\xb7\\xac/\\xa5}L\\xfaY\\x14PC\\xb7\\x8c\\xad\\r\\xda\\xc5\\x15U\\xa8\\\\\\\\\\xb8\\xacK\\xeb\\x93l\\xfc(\\xcf\\x91\\x06\\xea\\xb0\\xcc\\xc7\\xacxfU\\xd4$p**Sg\\x03\\xe3\\xee\\x81t\\xcb\\xe8K`\\xd4\\xef\\x12\"\\xdd\\x99}\\x8bQ\\x80d\\xe66D\\x14\\xb1#\\xe2\\x8d\\xafxi\\xbbK1\\x95\\xf6\\xd0Y\\xad\\x93\\xfc\\xef\\xee\\xa6 \\xb3\\xd5\\xd65\\xb0\\xc4\\x00\\xc74\\xe6\\x1d\\xfc\\xfa\\xa7~i=\\\\\\r\\x97yM\\xe5%\\xd8B\\xb3\\x87F\\xe4\\xb8'\n",
      "\n",
      "Расшифрованный люч симметричного шифрования: b'/\\x9c\\x05\\xd4:/\\xcb\\xf6\\x89\\x90F'\n",
      "КОНСТИТУЦИЯ РОССИЙСКОЙ ФЕДЕРАЦИИ Мы, многонациональный народ Российской Федерации, соединенные общей судьбой на своей земле, утверждая права и свободы человека, гражданский мир и согласие, сохраняя исторически сложившееся государственное единство, исходя из общепризнанных принципов равноправия и самоопределения народов, чтя память предков, передавших нам любовь и уважение к Отечеству, веру в добро и справедливость, возрождая суверенную государственность России и утверждая незыблемость ее демократической основы, стремясь обеспечить благополучие и процветание России, исходя из ответственности за свою Родину перед нынешним и будущими поколениями, сознавая себя частью мирового сообщества, принимаем КОНСТИТУЦИЮ РОССИЙСКОЙ ФЕДЕРАЦИИ.\u0000\u0000\u0003\n",
      "--------------------------------------------------------------------------------\n",
      "КОНСТИТУЦИЯ РОССИЙСКОЙ ФЕДЕРАЦИИ Мы, многонациональный народ Российской Федерации, соединенные общей судьбой на своей земле, утверждая права и свободы человека, гражданский мир и согласие, сохраняя исторически сложившееся государственное единство, исходя из общепризнанных принципов равноправия и самоопределения народов, чтя память предков, передавших нам любовь и уважение к Отечеству, веру в добро и справедливость, возрождая суверенную государственность России и утверждая незыблемость ее демократической основы, стремясь обеспечить благополучие и процветание России, исходя из ответственности за свою Родину перед нынешним и будущими поколениями, сознавая себя частью мирового сообщества, принимаем КОНСТИТУЦИЮ РОССИЙСКОЙ ФЕДЕРАЦИИ.\n"
     ]
    },
    {
     "name": "stderr",
     "output_type": "stream",
     "text": [
      "C:\\Users\\Marishka\\AppData\\Local\\Temp\\ipykernel_3360\\2486391256.py:7: CryptographyDeprecationWarning: CAST5 has been deprecated\n",
      "  cipher = Cipher(algorithms.CAST5(dec_sym_key), modes.CBC(iv))\n"
     ]
    }
   ],
   "source": [
    "text_decryption(file_settings)"
   ]
  }
 ],
 "metadata": {
  "kernelspec": {
   "display_name": "base",
   "language": "python",
   "name": "python3"
  },
  "language_info": {
   "codemirror_mode": {
    "name": "ipython",
    "version": 3
   },
   "file_extension": ".py",
   "mimetype": "text/x-python",
   "name": "python",
   "nbconvert_exporter": "python",
   "pygments_lexer": "ipython3",
   "version": "3.9.13 (main, Aug 25 2022, 23:51:50) [MSC v.1916 64 bit (AMD64)]"
  },
  "orig_nbformat": 4,
  "vscode": {
   "interpreter": {
    "hash": "960e651994a923c8580311382dd3517ae83689739d490e324b89482666af2124"
   }
  }
 },
 "nbformat": 4,
 "nbformat_minor": 2
}
